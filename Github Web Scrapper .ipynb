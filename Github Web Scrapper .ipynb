{
 "cells": [
  {
   "cell_type": "markdown",
   "id": "49fae673-a4f2-4b71-823d-944230e5877d",
   "metadata": {},
   "source": [
    "\n",
    "# Github Web Scrapping Project\n"
   ]
  },
  {
   "cell_type": "code",
   "execution_count": null,
   "id": "4ca32197-a29d-4e0b-94bc-ba006740ac70",
   "metadata": {},
   "outputs": [],
   "source": [
    "import requests #first we will import request which is a python libary "
   ]
  },
  {
   "cell_type": "code",
   "execution_count": 3,
   "id": "8ebece5c-945b-4e0a-aa1f-71912c43364d",
   "metadata": {},
   "outputs": [],
   "source": [
    "topics_url='https://github.com/topics'\n",
    "response =requests.get(topics_url)\n",
    "#we request  github/topics .com for scrapping \n"
   ]
  },
  {
   "cell_type": "code",
   "execution_count": 5,
   "id": "0b79a946-7477-4175-a8af-5e57b5aae931",
   "metadata": {},
   "outputs": [
    {
     "data": {
      "text/plain": [
       "'\\n<!DOCTYPE html>\\n<html\\n  lang=\"en\"\\n  \\n  data-color-mode=\"auto\" data-light-theme=\"light\" data-dark-theme=\"dark\"\\n  data-a11y-animated-images=\"system\" data-a11y-link-underlines=\"true\"\\n  >\\n\\n\\n\\n\\n  <head>\\n    <meta charset=\"utf-8\">\\n  <link rel=\"dns-prefetch\" href=\"https://github.githubassets.com\">\\n  <link rel=\"dns-prefetch\" href=\"https://avatars.githubusercontent.com\">\\n  <link rel=\"dns-prefetch\" href=\"https://github-cloud.s3.amazonaws.com\">\\n  <link rel=\"dns-prefetch\" href=\"https://user-images.githubusercontent.com/\">\\n  <link rel=\"preconnect\" href=\"https://github.githubassets.com\" crossorigin>\\n  <link rel=\"preconnect\" href=\"https://avatars.githubusercontent.com\">\\n\\n  \\n\\n  <link crossorigin=\"anonymous\" media=\"all\" rel=\"stylesheet\" href=\"https://github.githubassets.com/assets/light-0eace2597ca3.css\" /><link crossorigin=\"anonymous\" media=\"all\" rel=\"stylesheet\" href=\"https://github.githubassets.com/assets/dark-a167e256da9c.css\" /><link data-color-theme=\"dark_dimmed\" crossorigin=\"anonymous\" media=\"a'"
      ]
     },
     "execution_count": 5,
     "metadata": {},
     "output_type": "execute_result"
    }
   ],
   "source": [
    "# To calclulate the total length of the text \n",
    "len(response.text)\n",
    "page_contents=response.text\n",
    "\n",
    "page_contents[1:1000]\n",
    "# we use this for checking the page contents we limit till 10000\n"
   ]
  },
  {
   "cell_type": "code",
   "execution_count": 6,
   "id": "b731fe99-033e-44c3-b1e4-ddec4d530984",
   "metadata": {},
   "outputs": [],
   "source": [
    "with open ('webpage.html','w',encoding='utf-8') as f:\n",
    "    f.write(page_contents)\n",
    "    # a webpage.html page is made you can check on folder\n"
   ]
  },
  {
   "cell_type": "code",
   "execution_count": 7,
   "id": "e9009ebd-1b81-4b68-b5e2-4e9e6868b5bc",
   "metadata": {},
   "outputs": [],
   "source": [
    "# Now We Import BeautifulSoup libary of python which is used for webScrapping \n",
    "# for installing Beautifoul Libary  run pip install BeautifulSoup4  and if you are using Jupyter Notebook put ! at the starting of run line so that it can run on terminal  \n",
    "from bs4 import BeautifulSoup\n"
   ]
  },
  {
   "cell_type": "code",
   "execution_count": 8,
   "id": "25f2623a-5b27-48b1-b63f-69b88dd0d1fc",
   "metadata": {},
   "outputs": [],
   "source": [
    "doc=BeautifulSoup(page_contents,'html.parser')\n",
    "#  now we extract all the p tags \n",
    "ptags=doc.find_all('p')\n"
   ]
  },
  {
   "cell_type": "code",
   "execution_count": 9,
   "id": "2f912b03-cf93-4f13-9d91-fa6aaf320ed9",
   "metadata": {},
   "outputs": [
    {
     "data": {
      "text/plain": [
       "69"
      ]
     },
     "execution_count": 9,
     "metadata": {},
     "output_type": "execute_result"
    }
   ],
   "source": [
    "len(ptags)"
   ]
  },
  {
   "cell_type": "code",
   "execution_count": 10,
   "id": "b9cecb0c-59f5-4f66-b3cb-1543e43cb948",
   "metadata": {},
   "outputs": [
    {
     "data": {
      "text/plain": [
       "[<p>We read every piece of feedback, and take your input very seriously.</p>,\n",
       " <p class=\"text-small color-fg-muted\">\n",
       "             To see all available qualifiers, see our <a class=\"Link--inTextBlock\" href=\"https://docs.github.com/search-github/github-code-search/understanding-github-code-search-syntax\">documentation</a>.\n",
       "           </p>,\n",
       " <p class=\"f4 color-fg-muted col-md-6 mx-auto\">Browse popular topics on GitHub.</p>,\n",
       " <p class=\"f3 lh-condensed text-center Link--primary mb-0 mt-1\">\n",
       "         Unreal Engine\n",
       "       </p>,\n",
       " <p class=\"f5 color-fg-muted text-center mb-0 mt-1\">Unreal Engine is used to create awesome games, and experiences for PC, mobile, console, VR, and AR.</p>,\n",
       " <p class=\"f3 lh-condensed text-center Link--primary mb-0 mt-1\">\n",
       "         Ratchet\n",
       "       </p>,\n",
       " <p class=\"f5 color-fg-muted text-center mb-0 mt-1\">Ratchet is a set of libraries to handle WebSockets asynchronously in PHP.</p>,\n",
       " <p class=\"f3 lh-condensed text-center Link--primary mb-0 mt-1\">\n",
       "         Ember\n",
       "       </p>,\n",
       " <p class=\"f5 color-fg-muted text-center mb-0 mt-1\">Ember is a framework for creating web applications.</p>,\n",
       " <p class=\"f3 lh-condensed mb-0 mt-1 Link--primary\">3D</p>]"
      ]
     },
     "execution_count": 10,
     "metadata": {},
     "output_type": "execute_result"
    }
   ],
   "source": [
    "ptags[:10]"
   ]
  },
  {
   "cell_type": "code",
   "execution_count": 11,
   "id": "57af273c-c965-4d63-b3f9-fc0b6770c68c",
   "metadata": {},
   "outputs": [],
   "source": [
    "selection_class ='f3 lh-condensed mb-0 mt-1 Link--primary'\n",
    "topic_title_tags=doc.find_all('p',{'class':selection_class})\n",
    "\n"
   ]
  },
  {
   "cell_type": "code",
   "execution_count": 12,
   "id": "2a6cfea7-87f6-4b11-831a-34aaae19c7a5",
   "metadata": {},
   "outputs": [
    {
     "data": {
      "text/plain": [
       "30"
      ]
     },
     "execution_count": 12,
     "metadata": {},
     "output_type": "execute_result"
    }
   ],
   "source": [
    "len(topic_title_tags)\n"
   ]
  },
  {
   "cell_type": "code",
   "execution_count": 13,
   "id": "b4645eec-74fe-463e-ad74-aa118314b8b4",
   "metadata": {},
   "outputs": [
    {
     "data": {
      "text/plain": [
       "[<p class=\"f3 lh-condensed mb-0 mt-1 Link--primary\">3D</p>,\n",
       " <p class=\"f3 lh-condensed mb-0 mt-1 Link--primary\">Ajax</p>,\n",
       " <p class=\"f3 lh-condensed mb-0 mt-1 Link--primary\">Algorithm</p>,\n",
       " <p class=\"f3 lh-condensed mb-0 mt-1 Link--primary\">Amp</p>,\n",
       " <p class=\"f3 lh-condensed mb-0 mt-1 Link--primary\">Android</p>,\n",
       " <p class=\"f3 lh-condensed mb-0 mt-1 Link--primary\">Angular</p>,\n",
       " <p class=\"f3 lh-condensed mb-0 mt-1 Link--primary\">Ansible</p>,\n",
       " <p class=\"f3 lh-condensed mb-0 mt-1 Link--primary\">API</p>,\n",
       " <p class=\"f3 lh-condensed mb-0 mt-1 Link--primary\">Arduino</p>,\n",
       " <p class=\"f3 lh-condensed mb-0 mt-1 Link--primary\">ASP.NET</p>]"
      ]
     },
     "execution_count": 13,
     "metadata": {},
     "output_type": "execute_result"
    }
   ],
   "source": [
    "topic_title_tags[0:10]\n"
   ]
  },
  {
   "cell_type": "code",
   "execution_count": 14,
   "id": "3d9aad16-8c14-47ef-9be1-068f1172d234",
   "metadata": {},
   "outputs": [
    {
     "data": {
      "text/plain": [
       "[<p class=\"f3 lh-condensed mb-0 mt-1 Link--primary\">3D</p>,\n",
       " <p class=\"f3 lh-condensed mb-0 mt-1 Link--primary\">Ajax</p>,\n",
       " <p class=\"f3 lh-condensed mb-0 mt-1 Link--primary\">Algorithm</p>,\n",
       " <p class=\"f3 lh-condensed mb-0 mt-1 Link--primary\">Amp</p>,\n",
       " <p class=\"f3 lh-condensed mb-0 mt-1 Link--primary\">Android</p>,\n",
       " <p class=\"f3 lh-condensed mb-0 mt-1 Link--primary\">Angular</p>,\n",
       " <p class=\"f3 lh-condensed mb-0 mt-1 Link--primary\">Ansible</p>,\n",
       " <p class=\"f3 lh-condensed mb-0 mt-1 Link--primary\">API</p>,\n",
       " <p class=\"f3 lh-condensed mb-0 mt-1 Link--primary\">Arduino</p>,\n",
       " <p class=\"f3 lh-condensed mb-0 mt-1 Link--primary\">ASP.NET</p>]"
      ]
     },
     "execution_count": 14,
     "metadata": {},
     "output_type": "execute_result"
    }
   ],
   "source": [
    "topic_title_tags[0:10]"
   ]
  },
  {
   "cell_type": "code",
   "execution_count": 15,
   "id": "a93d1359-a10e-4679-94e0-9ffa31ee7fae",
   "metadata": {},
   "outputs": [],
   "source": [
    "# Now we scrap topic description "
   ]
  },
  {
   "cell_type": "code",
   "execution_count": 16,
   "id": "6433dec1-1ad0-41cf-80ea-7fabd96fdd91",
   "metadata": {},
   "outputs": [],
   "source": [
    "desc_selector='f5 color-text-secondary mb-0 mt-1'\n",
    "topic_desc_tags =doc.find_all('p', {'class':desc_selector})\n"
   ]
  },
  {
   "cell_type": "code",
   "execution_count": 17,
   "id": "695100ad-84ff-4e63-bb07-53496369e3ad",
   "metadata": {},
   "outputs": [],
   "source": [
    "topic_link_tags=doc.find_all('a',{'class':'no-underline flex-grow-0'})"
   ]
  },
  {
   "cell_type": "code",
   "execution_count": 18,
   "id": "3004a8e1-bb49-4cfc-8de0-4bc9e4de1996",
   "metadata": {},
   "outputs": [
    {
     "data": {
      "text/plain": [
       "30"
      ]
     },
     "execution_count": 18,
     "metadata": {},
     "output_type": "execute_result"
    }
   ],
   "source": [
    "len(topic_link_tags)\n",
    "# we scrap the link "
   ]
  },
  {
   "cell_type": "code",
   "execution_count": 19,
   "id": "5dde960c-1313-43b7-8ef2-9fc29a23a00f",
   "metadata": {},
   "outputs": [
    {
     "data": {
      "text/plain": [
       "[<p class=\"f3 lh-condensed mb-0 mt-1 Link--primary\">3D</p>,\n",
       " <p class=\"f3 lh-condensed mb-0 mt-1 Link--primary\">Ajax</p>,\n",
       " <p class=\"f3 lh-condensed mb-0 mt-1 Link--primary\">Algorithm</p>,\n",
       " <p class=\"f3 lh-condensed mb-0 mt-1 Link--primary\">Amp</p>,\n",
       " <p class=\"f3 lh-condensed mb-0 mt-1 Link--primary\">Android</p>,\n",
       " <p class=\"f3 lh-condensed mb-0 mt-1 Link--primary\">Angular</p>,\n",
       " <p class=\"f3 lh-condensed mb-0 mt-1 Link--primary\">Ansible</p>,\n",
       " <p class=\"f3 lh-condensed mb-0 mt-1 Link--primary\">API</p>,\n",
       " <p class=\"f3 lh-condensed mb-0 mt-1 Link--primary\">Arduino</p>,\n",
       " <p class=\"f3 lh-condensed mb-0 mt-1 Link--primary\">ASP.NET</p>]"
      ]
     },
     "execution_count": 19,
     "metadata": {},
     "output_type": "execute_result"
    }
   ],
   "source": [
    "topic_title_tags[0:10]"
   ]
  },
  {
   "cell_type": "code",
   "execution_count": 20,
   "id": "f9a6ecf4-f470-41cf-af73-7acb7f0ab739",
   "metadata": {},
   "outputs": [],
   "source": [
    "desc_selector='f5 color-fg-muted mb-0 mt-1'\n",
    "topic_desc_tags =doc.find_all('p', {'class':desc_selector})"
   ]
  },
  {
   "cell_type": "code",
   "execution_count": 21,
   "id": "16fe9b07-6549-4052-898b-859ab7c31c89",
   "metadata": {},
   "outputs": [],
   "source": [
    "topic_link_tags=doc.find_all('a',{'class':' no-underline'})\n"
   ]
  },
  {
   "cell_type": "code",
   "execution_count": 22,
   "id": "73fb2882-4d32-4ff7-9c18-0345dc7f8223",
   "metadata": {},
   "outputs": [
    {
     "data": {
      "text/plain": [
       "30"
      ]
     },
     "execution_count": 22,
     "metadata": {},
     "output_type": "execute_result"
    }
   ],
   "source": [
    "len(topic_desc_tags)\n"
   ]
  },
  {
   "cell_type": "code",
   "execution_count": 23,
   "id": "186c321f-1565-4481-a9f4-9fa1606a556b",
   "metadata": {},
   "outputs": [
    {
     "data": {
      "text/plain": [
       "[<p class=\"f5 color-fg-muted mb-0 mt-1\">\n",
       "           3D refers to the use of three-dimensional graphics, modeling, and animation in various industries.\n",
       "         </p>,\n",
       " <p class=\"f5 color-fg-muted mb-0 mt-1\">\n",
       "           Ajax is a technique for creating interactive web applications.\n",
       "         </p>,\n",
       " <p class=\"f5 color-fg-muted mb-0 mt-1\">\n",
       "           Algorithms are self-contained sequences that carry out a variety of tasks.\n",
       "         </p>,\n",
       " <p class=\"f5 color-fg-muted mb-0 mt-1\">\n",
       "           Amp is a non-blocking concurrency library for PHP.\n",
       "         </p>,\n",
       " <p class=\"f5 color-fg-muted mb-0 mt-1\">\n",
       "           Android is an operating system built by Google designed for mobile devices.\n",
       "         </p>]"
      ]
     },
     "execution_count": 23,
     "metadata": {},
     "output_type": "execute_result"
    }
   ],
   "source": [
    "topic_desc_tags[0:5]\n"
   ]
  },
  {
   "cell_type": "code",
   "execution_count": 24,
   "id": "10658c1a-0772-4862-95ba-498ada9fbf29",
   "metadata": {},
   "outputs": [
    {
     "data": {
      "text/plain": [
       "<a class=\"no-underline flex-1 d-flex flex-column\" href=\"/topics/3d\">\n",
       "<p class=\"f3 lh-condensed mb-0 mt-1 Link--primary\">3D</p>\n",
       "<p class=\"f5 color-fg-muted mb-0 mt-1\">\n",
       "          3D refers to the use of three-dimensional graphics, modeling, and animation in various industries.\n",
       "        </p>\n",
       "</a>"
      ]
     },
     "execution_count": 24,
     "metadata": {},
     "output_type": "execute_result"
    }
   ],
   "source": [
    "topic_title_tag0=topic_title_tags[0]\n",
    "topic_title_tag0.parent "
   ]
  },
  {
   "cell_type": "code",
   "execution_count": 25,
   "id": "8b7c2fba-5d23-4f4e-98b8-3ff8a5d397f7",
   "metadata": {},
   "outputs": [
    {
     "data": {
      "text/plain": [
       "30"
      ]
     },
     "execution_count": 25,
     "metadata": {},
     "output_type": "execute_result"
    }
   ],
   "source": [
    "topic_link_tags=doc.find_all('a',{'class':'no-underline flex-1 d-flex flex-column'})\n",
    "len(topic_link_tags)\n"
   ]
  },
  {
   "cell_type": "code",
   "execution_count": 26,
   "id": "fffc243d-91d5-4a03-bfbf-999715b5a485",
   "metadata": {},
   "outputs": [
    {
     "data": {
      "text/plain": [
       "[<a class=\"no-underline flex-1 d-flex flex-column\" href=\"/topics/3d\">\n",
       " <p class=\"f3 lh-condensed mb-0 mt-1 Link--primary\">3D</p>\n",
       " <p class=\"f5 color-fg-muted mb-0 mt-1\">\n",
       "           3D refers to the use of three-dimensional graphics, modeling, and animation in various industries.\n",
       "         </p>\n",
       " </a>,\n",
       " <a class=\"no-underline flex-1 d-flex flex-column\" href=\"/topics/ajax\">\n",
       " <p class=\"f3 lh-condensed mb-0 mt-1 Link--primary\">Ajax</p>\n",
       " <p class=\"f5 color-fg-muted mb-0 mt-1\">\n",
       "           Ajax is a technique for creating interactive web applications.\n",
       "         </p>\n",
       " </a>,\n",
       " <a class=\"no-underline flex-1 d-flex flex-column\" href=\"/topics/algorithm\">\n",
       " <p class=\"f3 lh-condensed mb-0 mt-1 Link--primary\">Algorithm</p>\n",
       " <p class=\"f5 color-fg-muted mb-0 mt-1\">\n",
       "           Algorithms are self-contained sequences that carry out a variety of tasks.\n",
       "         </p>\n",
       " </a>,\n",
       " <a class=\"no-underline flex-1 d-flex flex-column\" href=\"/topics/amphp\">\n",
       " <p class=\"f3 lh-condensed mb-0 mt-1 Link--primary\">Amp</p>\n",
       " <p class=\"f5 color-fg-muted mb-0 mt-1\">\n",
       "           Amp is a non-blocking concurrency library for PHP.\n",
       "         </p>\n",
       " </a>,\n",
       " <a class=\"no-underline flex-1 d-flex flex-column\" href=\"/topics/android\">\n",
       " <p class=\"f3 lh-condensed mb-0 mt-1 Link--primary\">Android</p>\n",
       " <p class=\"f5 color-fg-muted mb-0 mt-1\">\n",
       "           Android is an operating system built by Google designed for mobile devices.\n",
       "         </p>\n",
       " </a>,\n",
       " <a class=\"no-underline flex-1 d-flex flex-column\" href=\"/topics/angular\">\n",
       " <p class=\"f3 lh-condensed mb-0 mt-1 Link--primary\">Angular</p>\n",
       " <p class=\"f5 color-fg-muted mb-0 mt-1\">\n",
       "           Angular is an open source web application platform.\n",
       "         </p>\n",
       " </a>,\n",
       " <a class=\"no-underline flex-1 d-flex flex-column\" href=\"/topics/ansible\">\n",
       " <p class=\"f3 lh-condensed mb-0 mt-1 Link--primary\">Ansible</p>\n",
       " <p class=\"f5 color-fg-muted mb-0 mt-1\">\n",
       "           Ansible is a simple and powerful automation engine.\n",
       "         </p>\n",
       " </a>,\n",
       " <a class=\"no-underline flex-1 d-flex flex-column\" href=\"/topics/api\">\n",
       " <p class=\"f3 lh-condensed mb-0 mt-1 Link--primary\">API</p>\n",
       " <p class=\"f5 color-fg-muted mb-0 mt-1\">\n",
       "           An API (Application Programming Interface) is a collection of protocols and subroutines for building software.\n",
       "         </p>\n",
       " </a>,\n",
       " <a class=\"no-underline flex-1 d-flex flex-column\" href=\"/topics/arduino\">\n",
       " <p class=\"f3 lh-condensed mb-0 mt-1 Link--primary\">Arduino</p>\n",
       " <p class=\"f5 color-fg-muted mb-0 mt-1\">\n",
       "           Arduino is an open source platform for building electronic devices.\n",
       "         </p>\n",
       " </a>,\n",
       " <a class=\"no-underline flex-1 d-flex flex-column\" href=\"/topics/aspnet\">\n",
       " <p class=\"f3 lh-condensed mb-0 mt-1 Link--primary\">ASP.NET</p>\n",
       " <p class=\"f5 color-fg-muted mb-0 mt-1\">\n",
       "           ASP.NET is a web framework for building modern web apps and services.\n",
       "         </p>\n",
       " </a>]"
      ]
     },
     "execution_count": 26,
     "metadata": {},
     "output_type": "execute_result"
    }
   ],
   "source": [
    "topic_link_tags[:10]"
   ]
  },
  {
   "cell_type": "code",
   "execution_count": 27,
   "id": "efa1d933-e1ee-4406-bc6e-8f3dc65af5cb",
   "metadata": {},
   "outputs": [
    {
     "name": "stdout",
     "output_type": "stream",
     "text": [
      "https://github.com/topics/3d\n"
     ]
    }
   ],
   "source": [
    "topic0_url =\"https://github.com\"+topic_link_tags[0]['href']\n",
    "print(topic0_url)"
   ]
  },
  {
   "cell_type": "code",
   "execution_count": 28,
   "id": "89cf02ee-77ed-40f5-9b13-a599267a1d25",
   "metadata": {},
   "outputs": [
    {
     "name": "stdout",
     "output_type": "stream",
     "text": [
      "['3D', 'Ajax', 'Algorithm', 'Amp', 'Android', 'Angular', 'Ansible', 'API', 'Arduino', 'ASP.NET', 'Atom', 'Awesome Lists', 'Amazon Web Services', 'Azure', 'Babel', 'Bash', 'Bitcoin', 'Bootstrap', 'Bot', 'C', 'Chrome', 'Chrome extension', 'Command line interface', 'Clojure', 'Code quality', 'Code review', 'Compiler', 'Continuous integration', 'COVID-19', 'C++']\n"
     ]
    }
   ],
   "source": [
    "# Now we print the Total title tag present in the https://github.com/topics \n",
    "topic_titles =[]\n",
    "for tag in topic_title_tags:\n",
    "    topic_titles.append(tag.text)\n",
    "print(topic_titles)"
   ]
  },
  {
   "cell_type": "code",
   "execution_count": 29,
   "id": "de961704-1a7f-44b9-a3ff-850e88e612d3",
   "metadata": {},
   "outputs": [
    {
     "name": "stdout",
     "output_type": "stream",
     "text": [
      "['3D refers to the use of three-dimensional graphics, modeling, and animation in various industries.', 'Ajax is a technique for creating interactive web applications.', 'Algorithms are self-contained sequences that carry out a variety of tasks.', 'Amp is a non-blocking concurrency library for PHP.', 'Android is an operating system built by Google designed for mobile devices.', 'Angular is an open source web application platform.', 'Ansible is a simple and powerful automation engine.', 'An API (Application Programming Interface) is a collection of protocols and subroutines for building software.', 'Arduino is an open source platform for building electronic devices.', 'ASP.NET is a web framework for building modern web apps and services.', 'Atom is a open source text editor built with web technologies.', 'An awesome list is a list of awesome things curated by the community.', 'Amazon Web Services provides on-demand cloud computing platforms on a subscription basis.', 'Azure is a cloud computing service created by Microsoft.', 'Babel is a compiler for writing next generation JavaScript, today.', 'Bash is a shell and command language interpreter for the GNU operating system.', 'Bitcoin is a cryptocurrency developed by Satoshi Nakamoto.', 'Bootstrap is an HTML, CSS, and JavaScript framework.', 'A bot is an application that runs automated tasks over the Internet.', 'C is a general purpose programming language that first appeared in 1972.', 'Chrome is a web browser from the tech company Google.', 'Chrome extensions enable users to customize the Chrome browsing experience.', 'A CLI, or command-line interface, is a console that helps users issue commands to a program.', 'Clojure is a dynamic, general-purpose programming language.', 'Automate your code review with style, quality, security, and test‑coverage checks when you need them.', 'Ensure your code meets quality standards and ship with confidence.', 'Compilers are software that translate higher-level programming languages to lower-level languages (e.g. machine code).', 'Automatically build and test your code as you push it upstream, preventing bugs from being deployed to production.', 'The coronavirus disease 2019 (COVID-19) is an infectious disease caused by SARS-CoV-2.', 'C++ is a general purpose and object-oriented programming language.']\n"
     ]
    }
   ],
   "source": [
    "# now we print topic description of each title tag \n",
    "topic_descrption =[]\n",
    "for tag in topic_desc_tags:\n",
    "    topic_descrption.append(tag.text.strip())\n",
    "print(topic_descrption)"
   ]
  },
  {
   "cell_type": "code",
   "execution_count": 30,
   "id": "6af34c79-1a6e-4012-b9fd-ec2867eace91",
   "metadata": {},
   "outputs": [
    {
     "data": {
      "text/plain": [
       "['https://github.com/topics/3d',\n",
       " 'https://github.com/topics/ajax',\n",
       " 'https://github.com/topics/algorithm',\n",
       " 'https://github.com/topics/amphp',\n",
       " 'https://github.com/topics/android',\n",
       " 'https://github.com/topics/angular',\n",
       " 'https://github.com/topics/ansible',\n",
       " 'https://github.com/topics/api',\n",
       " 'https://github.com/topics/arduino',\n",
       " 'https://github.com/topics/aspnet',\n",
       " 'https://github.com/topics/atom',\n",
       " 'https://github.com/topics/awesome',\n",
       " 'https://github.com/topics/aws',\n",
       " 'https://github.com/topics/azure',\n",
       " 'https://github.com/topics/babel',\n",
       " 'https://github.com/topics/bash',\n",
       " 'https://github.com/topics/bitcoin',\n",
       " 'https://github.com/topics/bootstrap',\n",
       " 'https://github.com/topics/bot',\n",
       " 'https://github.com/topics/c',\n",
       " 'https://github.com/topics/chrome',\n",
       " 'https://github.com/topics/chrome-extension',\n",
       " 'https://github.com/topics/cli',\n",
       " 'https://github.com/topics/clojure',\n",
       " 'https://github.com/topics/code-quality',\n",
       " 'https://github.com/topics/code-review',\n",
       " 'https://github.com/topics/compiler',\n",
       " 'https://github.com/topics/continuous-integration',\n",
       " 'https://github.com/topics/covid-19',\n",
       " 'https://github.com/topics/cpp']"
      ]
     },
     "execution_count": 30,
     "metadata": {},
     "output_type": "execute_result"
    }
   ],
   "source": [
    "topic_url =[]\n",
    "base_url ='https://github.com'\n",
    "for tag in topic_link_tags:\n",
    "    topic_url.append(base_url+tag['href'])\n",
    "topic_url"
   ]
  },
  {
   "cell_type": "code",
   "execution_count": 31,
   "id": "fabe6985-10da-422b-8485-fa9735080322",
   "metadata": {},
   "outputs": [
    {
     "data": {
      "text/plain": [
       "['https://github.com/topics/3d',\n",
       " 'https://github.com/topics/ajax',\n",
       " 'https://github.com/topics/algorithm',\n",
       " 'https://github.com/topics/amphp',\n",
       " 'https://github.com/topics/android',\n",
       " 'https://github.com/topics/angular',\n",
       " 'https://github.com/topics/ansible',\n",
       " 'https://github.com/topics/api',\n",
       " 'https://github.com/topics/arduino',\n",
       " 'https://github.com/topics/aspnet']"
      ]
     },
     "execution_count": 31,
     "metadata": {},
     "output_type": "execute_result"
    }
   ],
   "source": [
    "\n",
    "len(topic_url)\n",
    "topic_url[:10]\n"
   ]
  },
  {
   "cell_type": "code",
   "execution_count": 32,
   "id": "d05fc53f-14a3-47e3-90ed-a2b09a254e56",
   "metadata": {},
   "outputs": [
    {
     "data": {
      "text/plain": [
       "['https://github.com/topics/3d',\n",
       " 'https://github.com/topics/ajax',\n",
       " 'https://github.com/topics/algorithm',\n",
       " 'https://github.com/topics/amphp',\n",
       " 'https://github.com/topics/android',\n",
       " 'https://github.com/topics/angular',\n",
       " 'https://github.com/topics/ansible',\n",
       " 'https://github.com/topics/api',\n",
       " 'https://github.com/topics/arduino',\n",
       " 'https://github.com/topics/aspnet']"
      ]
     },
     "execution_count": 32,
     "metadata": {},
     "output_type": "execute_result"
    }
   ],
   "source": [
    "\n",
    "\n",
    "len(topic_url)\n",
    "topic_url[:10]\n",
    "\n"
   ]
  },
  {
   "cell_type": "code",
   "execution_count": 33,
   "id": "f458eb57-4229-4bb3-a627-3c6538e6e9e0",
   "metadata": {},
   "outputs": [],
   "source": [
    "# we create dictorinary for data framing \n",
    "topic_dict ={\n",
    "    'title':topic_titles,\n",
    "    'description':topic_descrption,\n",
    "    'url':topic_url,\n",
    "}\n"
   ]
  },
  {
   "cell_type": "code",
   "execution_count": 34,
   "id": "2cb2c6aa-346f-4ac9-9519-c5bf343deb76",
   "metadata": {},
   "outputs": [
    {
     "name": "stdout",
     "output_type": "stream",
     "text": [
      "                     title                                        description  \\\n",
      "0                       3D  3D refers to the use of three-dimensional grap...   \n",
      "1                     Ajax  Ajax is a technique for creating interactive w...   \n",
      "2                Algorithm  Algorithms are self-contained sequences that c...   \n",
      "3                      Amp  Amp is a non-blocking concurrency library for ...   \n",
      "4                  Android  Android is an operating system built by Google...   \n",
      "5                  Angular  Angular is an open source web application plat...   \n",
      "6                  Ansible  Ansible is a simple and powerful automation en...   \n",
      "7                      API  An API (Application Programming Interface) is ...   \n",
      "8                  Arduino  Arduino is an open source platform for buildin...   \n",
      "9                  ASP.NET  ASP.NET is a web framework for building modern...   \n",
      "10                    Atom  Atom is a open source text editor built with w...   \n",
      "11           Awesome Lists  An awesome list is a list of awesome things cu...   \n",
      "12     Amazon Web Services  Amazon Web Services provides on-demand cloud c...   \n",
      "13                   Azure  Azure is a cloud computing service created by ...   \n",
      "14                   Babel  Babel is a compiler for writing next generatio...   \n",
      "15                    Bash  Bash is a shell and command language interpret...   \n",
      "16                 Bitcoin  Bitcoin is a cryptocurrency developed by Satos...   \n",
      "17               Bootstrap  Bootstrap is an HTML, CSS, and JavaScript fram...   \n",
      "18                     Bot  A bot is an application that runs automated ta...   \n",
      "19                       C  C is a general purpose programming language th...   \n",
      "20                  Chrome  Chrome is a web browser from the tech company ...   \n",
      "21        Chrome extension  Chrome extensions enable users to customize th...   \n",
      "22  Command line interface  A CLI, or command-line interface, is a console...   \n",
      "23                 Clojure  Clojure is a dynamic, general-purpose programm...   \n",
      "24            Code quality  Automate your code review with style, quality,...   \n",
      "25             Code review  Ensure your code meets quality standards and s...   \n",
      "26                Compiler  Compilers are software that translate higher-l...   \n",
      "27  Continuous integration  Automatically build and test your code as you ...   \n",
      "28                COVID-19  The coronavirus disease 2019 (COVID-19) is an ...   \n",
      "29                     C++  C++ is a general purpose and object-oriented p...   \n",
      "\n",
      "                                                 url  \n",
      "0                       https://github.com/topics/3d  \n",
      "1                     https://github.com/topics/ajax  \n",
      "2                https://github.com/topics/algorithm  \n",
      "3                    https://github.com/topics/amphp  \n",
      "4                  https://github.com/topics/android  \n",
      "5                  https://github.com/topics/angular  \n",
      "6                  https://github.com/topics/ansible  \n",
      "7                      https://github.com/topics/api  \n",
      "8                  https://github.com/topics/arduino  \n",
      "9                   https://github.com/topics/aspnet  \n",
      "10                    https://github.com/topics/atom  \n",
      "11                 https://github.com/topics/awesome  \n",
      "12                     https://github.com/topics/aws  \n",
      "13                   https://github.com/topics/azure  \n",
      "14                   https://github.com/topics/babel  \n",
      "15                    https://github.com/topics/bash  \n",
      "16                 https://github.com/topics/bitcoin  \n",
      "17               https://github.com/topics/bootstrap  \n",
      "18                     https://github.com/topics/bot  \n",
      "19                       https://github.com/topics/c  \n",
      "20                  https://github.com/topics/chrome  \n",
      "21        https://github.com/topics/chrome-extension  \n",
      "22                     https://github.com/topics/cli  \n",
      "23                 https://github.com/topics/clojure  \n",
      "24            https://github.com/topics/code-quality  \n",
      "25             https://github.com/topics/code-review  \n",
      "26                https://github.com/topics/compiler  \n",
      "27  https://github.com/topics/continuous-integration  \n",
      "28                https://github.com/topics/covid-19  \n",
      "29                     https://github.com/topics/cpp  \n"
     ]
    }
   ],
   "source": [
    "import pandas as pd \n",
    "#import pandas python libary using !pip install pandas \n",
    "df=pd.DataFrame(topic_dict)\n",
    "print(df)"
   ]
  },
  {
   "cell_type": "code",
   "execution_count": 35,
   "id": "bf23f246-7a44-42ae-ab20-e5c8a4e47021",
   "metadata": {},
   "outputs": [],
   "source": [
    "df.to_csv('topic.csv')# A csv file will create with file name topics "
   ]
  },
  {
   "cell_type": "code",
   "execution_count": 36,
   "id": "e7819840-96f3-42e7-917e-2fe824949c46",
   "metadata": {},
   "outputs": [],
   "source": [
    "topic_page_url =topic_url[0]\n"
   ]
  },
  {
   "cell_type": "code",
   "execution_count": 37,
   "id": "5d2ec70a-a60f-4590-8607-ef89f4cb1e9c",
   "metadata": {},
   "outputs": [
    {
     "data": {
      "text/plain": [
       "'https://github.com/topics/3d'"
      ]
     },
     "execution_count": 37,
     "metadata": {},
     "output_type": "execute_result"
    }
   ],
   "source": [
    "topic_page_url\n",
    "\n"
   ]
  },
  {
   "cell_type": "code",
   "execution_count": 38,
   "id": "214f440e-37f2-4355-a86b-d45f1d82a8b4",
   "metadata": {},
   "outputs": [],
   "source": [
    "# now we scrap the user data ,repositry ,total number of stars etc\n",
    "import requests\n"
   ]
  },
  {
   "cell_type": "code",
   "execution_count": 39,
   "id": "78eaad47-e250-453e-9513-26d1e1077b85",
   "metadata": {},
   "outputs": [],
   "source": [
    "response=requests.get(topic_page_url)"
   ]
  },
  {
   "cell_type": "code",
   "execution_count": 40,
   "id": "88ac03f0-eb53-4665-8d5e-10591c0c23df",
   "metadata": {},
   "outputs": [
    {
     "data": {
      "text/plain": [
       "200"
      ]
     },
     "execution_count": 40,
     "metadata": {},
     "output_type": "execute_result"
    }
   ],
   "source": [
    "response.status_code"
   ]
  },
  {
   "cell_type": "code",
   "execution_count": 41,
   "id": "c75d9eed-395e-44d1-a9b1-59639038c89f",
   "metadata": {},
   "outputs": [
    {
     "data": {
      "text/plain": [
       "503247"
      ]
     },
     "execution_count": 41,
     "metadata": {},
     "output_type": "execute_result"
    }
   ],
   "source": [
    "len(response.text)"
   ]
  },
  {
   "cell_type": "code",
   "execution_count": 42,
   "id": "7a7531f8-c390-4b76-b2ec-1209d9cfe43e",
   "metadata": {},
   "outputs": [
    {
     "data": {
      "text/plain": [
       "503247"
      ]
     },
     "execution_count": 42,
     "metadata": {},
     "output_type": "execute_result"
    }
   ],
   "source": [
    "len(response.text)"
   ]
  },
  {
   "cell_type": "code",
   "execution_count": 43,
   "id": "4d6bd3e0-109d-4905-bb93-aade2f70fed0",
   "metadata": {},
   "outputs": [],
   "source": [
    "topic_doc =BeautifulSoup(response.text,'html.parser')"
   ]
  },
  {
   "cell_type": "code",
   "execution_count": 44,
   "id": "0c51e0e5-426b-40a3-a6b8-b47476e2770a",
   "metadata": {},
   "outputs": [],
   "source": [
    "h3_selectionclass='f3 color-fg-muted text-normal lh-condensed' # you can find on clicking on element during inspect \n",
    "repo_tags=topic_doc.find_all('h3',{'class':h3_selectionclass})"
   ]
  },
  {
   "cell_type": "code",
   "execution_count": 45,
   "id": "4448e700-2422-4112-9c74-008e13650cba",
   "metadata": {},
   "outputs": [
    {
     "data": {
      "text/plain": [
       "20"
      ]
     },
     "execution_count": 45,
     "metadata": {},
     "output_type": "execute_result"
    }
   ],
   "source": [
    "len(repo_tags) # checking not required "
   ]
  },
  {
   "cell_type": "code",
   "execution_count": 46,
   "id": "b3fb1534-ef10-40e3-9e30-5e55d46995fe",
   "metadata": {},
   "outputs": [
    {
     "data": {
      "text/plain": [
       "[<h3 class=\"f3 color-fg-muted text-normal lh-condensed\">\n",
       " <a class=\"Link\" data-hydro-click='{\"event_type\":\"explore.click\",\"payload\":{\"click_context\":\"REPOSITORY_CARD\",\"click_target\":\"OWNER\",\"click_visual_representation\":\"REPOSITORY_OWNER_HEADING\",\"actor_id\":null,\"record_id\":97088,\"originating_url\":\"https://github.com/topics/3d\",\"user_id\":null}}' data-hydro-click-hmac=\"c72fbd5c69a8ee7c9c53a4e65de2b93c8fc7552dd793945819639bc165c0f0ba\" data-turbo=\"false\" data-view-component=\"true\" href=\"/mrdoob\">\n",
       "             mrdoob\n",
       " </a>          /\n",
       "           <a class=\"Link text-bold wb-break-word\" data-hydro-click='{\"event_type\":\"explore.click\",\"payload\":{\"click_context\":\"REPOSITORY_CARD\",\"click_target\":\"REPOSITORY\",\"click_visual_representation\":\"REPOSITORY_NAME_HEADING\",\"actor_id\":null,\"record_id\":576201,\"originating_url\":\"https://github.com/topics/3d\",\"user_id\":null}}' data-hydro-click-hmac=\"4a2667db3d63a1739c412e059e5da95afe419df83f70949b5d59dc3478f5c79a\" data-turbo=\"false\" data-view-component=\"true\" href=\"/mrdoob/three.js\">\n",
       "             three.js\n",
       " </a> </h3>,\n",
       " <h3 class=\"f3 color-fg-muted text-normal lh-condensed\">\n",
       " <a class=\"Link\" data-hydro-click='{\"event_type\":\"explore.click\",\"payload\":{\"click_context\":\"REPOSITORY_CARD\",\"click_target\":\"OWNER\",\"click_visual_representation\":\"REPOSITORY_OWNER_HEADING\",\"actor_id\":null,\"record_id\":45790596,\"originating_url\":\"https://github.com/topics/3d\",\"user_id\":null}}' data-hydro-click-hmac=\"3631fd8d52f4cabfc79d79ff64c69f4b01193561c15fdbebe2e938fb5c659ca6\" data-turbo=\"false\" data-view-component=\"true\" href=\"/pmndrs\">\n",
       "             pmndrs\n",
       " </a>          /\n",
       "           <a class=\"Link text-bold wb-break-word\" data-hydro-click='{\"event_type\":\"explore.click\",\"payload\":{\"click_context\":\"REPOSITORY_CARD\",\"click_target\":\"REPOSITORY\",\"click_visual_representation\":\"REPOSITORY_NAME_HEADING\",\"actor_id\":null,\"record_id\":172521926,\"originating_url\":\"https://github.com/topics/3d\",\"user_id\":null}}' data-hydro-click-hmac=\"642553dc7d4ffd4a71455d086a76b927fd338477f8a4affe2a70abc205373db7\" data-turbo=\"false\" data-view-component=\"true\" href=\"/pmndrs/react-three-fiber\">\n",
       "             react-three-fiber\n",
       " </a> </h3>,\n",
       " <h3 class=\"f3 color-fg-muted text-normal lh-condensed\">\n",
       " <a class=\"Link\" data-hydro-click='{\"event_type\":\"explore.click\",\"payload\":{\"click_context\":\"REPOSITORY_CARD\",\"click_target\":\"OWNER\",\"click_visual_representation\":\"REPOSITORY_OWNER_HEADING\",\"actor_id\":null,\"record_id\":509841,\"originating_url\":\"https://github.com/topics/3d\",\"user_id\":null}}' data-hydro-click-hmac=\"f5fbcbcae567cb54999ca77df523ec3e63bf16aaf66cfe150df67964bd49444d\" data-turbo=\"false\" data-view-component=\"true\" href=\"/libgdx\">\n",
       "             libgdx\n",
       " </a>          /\n",
       "           <a class=\"Link text-bold wb-break-word\" data-hydro-click='{\"event_type\":\"explore.click\",\"payload\":{\"click_context\":\"REPOSITORY_CARD\",\"click_target\":\"REPOSITORY\",\"click_visual_representation\":\"REPOSITORY_NAME_HEADING\",\"actor_id\":null,\"record_id\":5373551,\"originating_url\":\"https://github.com/topics/3d\",\"user_id\":null}}' data-hydro-click-hmac=\"93e1fbfd676bec2f3c89b7de544fddc92181afdf52544c2bedf8c11ec0d75a2c\" data-turbo=\"false\" data-view-component=\"true\" href=\"/libgdx/libgdx\">\n",
       "             libgdx\n",
       " </a> </h3>,\n",
       " <h3 class=\"f3 color-fg-muted text-normal lh-condensed\">\n",
       " <a class=\"Link\" data-hydro-click='{\"event_type\":\"explore.click\",\"payload\":{\"click_context\":\"REPOSITORY_CARD\",\"click_target\":\"OWNER\",\"click_visual_representation\":\"REPOSITORY_OWNER_HEADING\",\"actor_id\":null,\"record_id\":4855800,\"originating_url\":\"https://github.com/topics/3d\",\"user_id\":null}}' data-hydro-click-hmac=\"a1d0cdc67cb2b8c6bde702eaaf3e49c102d6c79761dd9388495e03cb75473502\" data-turbo=\"false\" data-view-component=\"true\" href=\"/BabylonJS\">\n",
       "             BabylonJS\n",
       " </a>          /\n",
       "           <a class=\"Link text-bold wb-break-word\" data-hydro-click='{\"event_type\":\"explore.click\",\"payload\":{\"click_context\":\"REPOSITORY_CARD\",\"click_target\":\"REPOSITORY\",\"click_visual_representation\":\"REPOSITORY_NAME_HEADING\",\"actor_id\":null,\"record_id\":11007313,\"originating_url\":\"https://github.com/topics/3d\",\"user_id\":null}}' data-hydro-click-hmac=\"4543a4bac703ddf1e723be30e195f4ee9093c06ebc961fff86939beb0bf98e33\" data-turbo=\"false\" data-view-component=\"true\" href=\"/BabylonJS/Babylon.js\">\n",
       "             Babylon.js\n",
       " </a> </h3>]"
      ]
     },
     "execution_count": 46,
     "metadata": {},
     "output_type": "execute_result"
    }
   ],
   "source": [
    "repo_tags[:4]"
   ]
  },
  {
   "cell_type": "code",
   "execution_count": 47,
   "id": "2d6d42ba-0c32-4aa4-a2ba-a6cc77b5fb94",
   "metadata": {},
   "outputs": [],
   "source": [
    "a_tags=repo_tags[0].find_all('a')"
   ]
  },
  {
   "cell_type": "code",
   "execution_count": 48,
   "id": "25dcb74b-d2d4-4449-9a46-cb34cb09d71a",
   "metadata": {},
   "outputs": [
    {
     "data": {
      "text/plain": [
       "[<a class=\"Link\" data-hydro-click='{\"event_type\":\"explore.click\",\"payload\":{\"click_context\":\"REPOSITORY_CARD\",\"click_target\":\"OWNER\",\"click_visual_representation\":\"REPOSITORY_OWNER_HEADING\",\"actor_id\":null,\"record_id\":97088,\"originating_url\":\"https://github.com/topics/3d\",\"user_id\":null}}' data-hydro-click-hmac=\"c72fbd5c69a8ee7c9c53a4e65de2b93c8fc7552dd793945819639bc165c0f0ba\" data-turbo=\"false\" data-view-component=\"true\" href=\"/mrdoob\">\n",
       "             mrdoob\n",
       " </a>,\n",
       " <a class=\"Link text-bold wb-break-word\" data-hydro-click='{\"event_type\":\"explore.click\",\"payload\":{\"click_context\":\"REPOSITORY_CARD\",\"click_target\":\"REPOSITORY\",\"click_visual_representation\":\"REPOSITORY_NAME_HEADING\",\"actor_id\":null,\"record_id\":576201,\"originating_url\":\"https://github.com/topics/3d\",\"user_id\":null}}' data-hydro-click-hmac=\"4a2667db3d63a1739c412e059e5da95afe419df83f70949b5d59dc3478f5c79a\" data-turbo=\"false\" data-view-component=\"true\" href=\"/mrdoob/three.js\">\n",
       "             three.js\n",
       " </a>]"
      ]
     },
     "execution_count": 48,
     "metadata": {},
     "output_type": "execute_result"
    }
   ],
   "source": [
    "a_tags"
   ]
  },
  {
   "cell_type": "code",
   "execution_count": 49,
   "id": "739bcf33-0072-410b-96f2-253b6efd905f",
   "metadata": {},
   "outputs": [
    {
     "data": {
      "text/plain": [
       "'mrdoob'"
      ]
     },
     "execution_count": 49,
     "metadata": {},
     "output_type": "execute_result"
    }
   ],
   "source": [
    "a_tags[0].text.strip() #username will print "
   ]
  },
  {
   "cell_type": "code",
   "execution_count": 50,
   "id": "1ff8e12d-f865-4466-a8e4-c34afca3f964",
   "metadata": {},
   "outputs": [
    {
     "data": {
      "text/plain": [
       "'three.js'"
      ]
     },
     "execution_count": 50,
     "metadata": {},
     "output_type": "execute_result"
    }
   ],
   "source": [
    "a_tags[1].text.strip() # repo name will create "
   ]
  },
  {
   "cell_type": "code",
   "execution_count": 51,
   "id": "2a64331d-1ed0-4f3d-8b1c-01b5ed2e656e",
   "metadata": {},
   "outputs": [
    {
     "name": "stdout",
     "output_type": "stream",
     "text": [
      "https://github.com/mrdoob/three.js\n"
     ]
    }
   ],
   "source": [
    "repo_url =base_url+a_tags[1]['href']\n",
    "print(repo_url)"
   ]
  },
  {
   "cell_type": "code",
   "execution_count": 52,
   "id": "e397a5d1-21f2-4e73-85b4-e7b81f7c59e3",
   "metadata": {},
   "outputs": [],
   "source": [
    "start_tags=topic_doc.find_all('span',{'class':'Counter js-social-count'})"
   ]
  },
  {
   "cell_type": "code",
   "execution_count": 53,
   "id": "60987609-bde2-4d56-a9bb-e53079491369",
   "metadata": {},
   "outputs": [
    {
     "data": {
      "text/plain": [
       "20"
      ]
     },
     "execution_count": 53,
     "metadata": {},
     "output_type": "execute_result"
    }
   ],
   "source": [
    "len(start_tags)"
   ]
  },
  {
   "cell_type": "code",
   "execution_count": 54,
   "id": "453cb45c-df38-4064-9164-95dc07c8e08f",
   "metadata": {},
   "outputs": [
    {
     "data": {
      "text/plain": [
       "'98.6k'"
      ]
     },
     "execution_count": 54,
     "metadata": {},
     "output_type": "execute_result"
    }
   ],
   "source": [
    "start_tags[0].text.strip()"
   ]
  },
  {
   "cell_type": "code",
   "execution_count": 55,
   "id": "81b6a41a-cc27-495e-a6d9-d7a94f3819bf",
   "metadata": {},
   "outputs": [],
   "source": [
    "def parse_star_count(stars_str):\n",
    "    stars_str =stars_str.strip()\n",
    "    if stars_str[-1] =='k':\n",
    "        return int(float(stars_str[:-1])*1000)\n",
    "    return int (stars_str)\n",
    "# now we will count stars "
   ]
  },
  {
   "cell_type": "code",
   "execution_count": 56,
   "id": "b6708572-cb94-46d3-b326-5944329e62a9",
   "metadata": {},
   "outputs": [
    {
     "data": {
      "text/plain": [
       "98600"
      ]
     },
     "execution_count": 56,
     "metadata": {},
     "output_type": "execute_result"
    }
   ],
   "source": [
    "parse_star_count(start_tags[0].text.strip())"
   ]
  },
  {
   "cell_type": "code",
   "execution_count": 57,
   "id": "1f57aade-ca03-4688-a8da-7c21e6da5e87",
   "metadata": {},
   "outputs": [],
   "source": [
    "def get_repo_info(h3_tag,start_tag):\n",
    "    a_tags=h3_tag.find_all('a')\n",
    "    username=a_tags[0].text.strip()\n",
    "    repo_name=a_tags[1].text.strip()\n",
    "    repo_url =base_url+a_tags[1]['href']\n",
    "    stars=parse_star_count(start_tag.text.strip())\n",
    "    return username,repo_name,repo_url,stars;\n",
    "    "
   ]
  },
  {
   "cell_type": "code",
   "execution_count": 58,
   "id": "4646217c-8a9f-40b4-8c99-15bfebd8059a",
   "metadata": {},
   "outputs": [
    {
     "data": {
      "text/plain": [
       "('mrdoob', 'three.js', 'https://github.com/mrdoob/three.js', 98600)"
      ]
     },
     "execution_count": 58,
     "metadata": {},
     "output_type": "execute_result"
    }
   ],
   "source": [
    "get_repo_info(repo_tags[0],start_tags[0])"
   ]
  },
  {
   "cell_type": "code",
   "execution_count": 62,
   "id": "01241458-63c6-4bb7-a929-c9ea40fcb9cd",
   "metadata": {},
   "outputs": [],
   "source": [
    "topic_repos_dict={\n",
    "    'username':[],\n",
    "    'repo_name':[],\n",
    "    'stars':[],\n",
    "    'repo_url':[]\n",
    "}\n",
    "for i in range(len(repo_tags)):\n",
    "    repo_info=get_repo_info(repo_tags[i],start_tags[i])\n",
    "    topic_repos_dict['username'].append(repo_info[0])\n",
    "    topic_repos_dict['repo_name'].append(repo_info[0])\n",
    "    topic_repos_dict['stars'].append(repo_info[0])\n",
    "    topic_repos_dict['repo_url'].append(repo_info[3])\n",
    "\n"
   ]
  },
  {
   "cell_type": "code",
   "execution_count": 63,
   "id": "0c18c2dd-29b5-4804-9ed7-2389e236ab0e",
   "metadata": {},
   "outputs": [
    {
     "data": {
      "text/plain": [
       "{'username': ['mrdoob',\n",
       "  'pmndrs',\n",
       "  'libgdx',\n",
       "  'BabylonJS',\n",
       "  'ssloy',\n",
       "  'FreeCAD',\n",
       "  'lettier',\n",
       "  'aframevr',\n",
       "  'CesiumGS',\n",
       "  'blender',\n",
       "  'MonoGame',\n",
       "  'isl-org',\n",
       "  'metafizzy',\n",
       "  'timzhang642',\n",
       "  'nerfstudio-project',\n",
       "  'a1studmuffin',\n",
       "  'domlysz',\n",
       "  'FyroxEngine',\n",
       "  'google',\n",
       "  'openscad'],\n",
       " 'repo_name': ['mrdoob',\n",
       "  'pmndrs',\n",
       "  'libgdx',\n",
       "  'BabylonJS',\n",
       "  'ssloy',\n",
       "  'FreeCAD',\n",
       "  'lettier',\n",
       "  'aframevr',\n",
       "  'CesiumGS',\n",
       "  'blender',\n",
       "  'MonoGame',\n",
       "  'isl-org',\n",
       "  'metafizzy',\n",
       "  'timzhang642',\n",
       "  'nerfstudio-project',\n",
       "  'a1studmuffin',\n",
       "  'domlysz',\n",
       "  'FyroxEngine',\n",
       "  'google',\n",
       "  'openscad'],\n",
       " 'stars': ['mrdoob',\n",
       "  'pmndrs',\n",
       "  'libgdx',\n",
       "  'BabylonJS',\n",
       "  'ssloy',\n",
       "  'FreeCAD',\n",
       "  'lettier',\n",
       "  'aframevr',\n",
       "  'CesiumGS',\n",
       "  'blender',\n",
       "  'MonoGame',\n",
       "  'isl-org',\n",
       "  'metafizzy',\n",
       "  'timzhang642',\n",
       "  'nerfstudio-project',\n",
       "  'a1studmuffin',\n",
       "  'domlysz',\n",
       "  'FyroxEngine',\n",
       "  'google',\n",
       "  'openscad'],\n",
       " 'repo_url': [98600,\n",
       "  25800,\n",
       "  22600,\n",
       "  22400,\n",
       "  19300,\n",
       "  17300,\n",
       "  17000,\n",
       "  16100,\n",
       "  11800,\n",
       "  11300,\n",
       "  10700,\n",
       "  10400,\n",
       "  10200,\n",
       "  9400,\n",
       "  8400,\n",
       "  7600,\n",
       "  7200,\n",
       "  7100,\n",
       "  6500,\n",
       "  6400]}"
      ]
     },
     "execution_count": 63,
     "metadata": {},
     "output_type": "execute_result"
    }
   ],
   "source": [
    "topic_repos_dict\n"
   ]
  },
  {
   "cell_type": "code",
   "execution_count": 64,
   "id": "e83a5ef7-174f-4dd7-ad67-55d0ec011f44",
   "metadata": {},
   "outputs": [],
   "source": [
    "topicDF=pd.DataFrame(topic_repos_dict)"
   ]
  },
  {
   "cell_type": "code",
   "execution_count": 65,
   "id": "490b4fcb-80df-4125-a784-9cfe35416824",
   "metadata": {},
   "outputs": [
    {
     "data": {
      "text/html": [
       "<div>\n",
       "<style scoped>\n",
       "    .dataframe tbody tr th:only-of-type {\n",
       "        vertical-align: middle;\n",
       "    }\n",
       "\n",
       "    .dataframe tbody tr th {\n",
       "        vertical-align: top;\n",
       "    }\n",
       "\n",
       "    .dataframe thead th {\n",
       "        text-align: right;\n",
       "    }\n",
       "</style>\n",
       "<table border=\"1\" class=\"dataframe\">\n",
       "  <thead>\n",
       "    <tr style=\"text-align: right;\">\n",
       "      <th></th>\n",
       "      <th>username</th>\n",
       "      <th>repo_name</th>\n",
       "      <th>stars</th>\n",
       "      <th>repo_url</th>\n",
       "    </tr>\n",
       "  </thead>\n",
       "  <tbody>\n",
       "    <tr>\n",
       "      <th>0</th>\n",
       "      <td>mrdoob</td>\n",
       "      <td>mrdoob</td>\n",
       "      <td>mrdoob</td>\n",
       "      <td>98600</td>\n",
       "    </tr>\n",
       "    <tr>\n",
       "      <th>1</th>\n",
       "      <td>pmndrs</td>\n",
       "      <td>pmndrs</td>\n",
       "      <td>pmndrs</td>\n",
       "      <td>25800</td>\n",
       "    </tr>\n",
       "    <tr>\n",
       "      <th>2</th>\n",
       "      <td>libgdx</td>\n",
       "      <td>libgdx</td>\n",
       "      <td>libgdx</td>\n",
       "      <td>22600</td>\n",
       "    </tr>\n",
       "    <tr>\n",
       "      <th>3</th>\n",
       "      <td>BabylonJS</td>\n",
       "      <td>BabylonJS</td>\n",
       "      <td>BabylonJS</td>\n",
       "      <td>22400</td>\n",
       "    </tr>\n",
       "    <tr>\n",
       "      <th>4</th>\n",
       "      <td>ssloy</td>\n",
       "      <td>ssloy</td>\n",
       "      <td>ssloy</td>\n",
       "      <td>19300</td>\n",
       "    </tr>\n",
       "    <tr>\n",
       "      <th>5</th>\n",
       "      <td>FreeCAD</td>\n",
       "      <td>FreeCAD</td>\n",
       "      <td>FreeCAD</td>\n",
       "      <td>17300</td>\n",
       "    </tr>\n",
       "    <tr>\n",
       "      <th>6</th>\n",
       "      <td>lettier</td>\n",
       "      <td>lettier</td>\n",
       "      <td>lettier</td>\n",
       "      <td>17000</td>\n",
       "    </tr>\n",
       "    <tr>\n",
       "      <th>7</th>\n",
       "      <td>aframevr</td>\n",
       "      <td>aframevr</td>\n",
       "      <td>aframevr</td>\n",
       "      <td>16100</td>\n",
       "    </tr>\n",
       "    <tr>\n",
       "      <th>8</th>\n",
       "      <td>CesiumGS</td>\n",
       "      <td>CesiumGS</td>\n",
       "      <td>CesiumGS</td>\n",
       "      <td>11800</td>\n",
       "    </tr>\n",
       "    <tr>\n",
       "      <th>9</th>\n",
       "      <td>blender</td>\n",
       "      <td>blender</td>\n",
       "      <td>blender</td>\n",
       "      <td>11300</td>\n",
       "    </tr>\n",
       "    <tr>\n",
       "      <th>10</th>\n",
       "      <td>MonoGame</td>\n",
       "      <td>MonoGame</td>\n",
       "      <td>MonoGame</td>\n",
       "      <td>10700</td>\n",
       "    </tr>\n",
       "    <tr>\n",
       "      <th>11</th>\n",
       "      <td>isl-org</td>\n",
       "      <td>isl-org</td>\n",
       "      <td>isl-org</td>\n",
       "      <td>10400</td>\n",
       "    </tr>\n",
       "    <tr>\n",
       "      <th>12</th>\n",
       "      <td>metafizzy</td>\n",
       "      <td>metafizzy</td>\n",
       "      <td>metafizzy</td>\n",
       "      <td>10200</td>\n",
       "    </tr>\n",
       "    <tr>\n",
       "      <th>13</th>\n",
       "      <td>timzhang642</td>\n",
       "      <td>timzhang642</td>\n",
       "      <td>timzhang642</td>\n",
       "      <td>9400</td>\n",
       "    </tr>\n",
       "    <tr>\n",
       "      <th>14</th>\n",
       "      <td>nerfstudio-project</td>\n",
       "      <td>nerfstudio-project</td>\n",
       "      <td>nerfstudio-project</td>\n",
       "      <td>8400</td>\n",
       "    </tr>\n",
       "    <tr>\n",
       "      <th>15</th>\n",
       "      <td>a1studmuffin</td>\n",
       "      <td>a1studmuffin</td>\n",
       "      <td>a1studmuffin</td>\n",
       "      <td>7600</td>\n",
       "    </tr>\n",
       "    <tr>\n",
       "      <th>16</th>\n",
       "      <td>domlysz</td>\n",
       "      <td>domlysz</td>\n",
       "      <td>domlysz</td>\n",
       "      <td>7200</td>\n",
       "    </tr>\n",
       "    <tr>\n",
       "      <th>17</th>\n",
       "      <td>FyroxEngine</td>\n",
       "      <td>FyroxEngine</td>\n",
       "      <td>FyroxEngine</td>\n",
       "      <td>7100</td>\n",
       "    </tr>\n",
       "    <tr>\n",
       "      <th>18</th>\n",
       "      <td>google</td>\n",
       "      <td>google</td>\n",
       "      <td>google</td>\n",
       "      <td>6500</td>\n",
       "    </tr>\n",
       "    <tr>\n",
       "      <th>19</th>\n",
       "      <td>openscad</td>\n",
       "      <td>openscad</td>\n",
       "      <td>openscad</td>\n",
       "      <td>6400</td>\n",
       "    </tr>\n",
       "  </tbody>\n",
       "</table>\n",
       "</div>"
      ],
      "text/plain": [
       "              username           repo_name               stars  repo_url\n",
       "0               mrdoob              mrdoob              mrdoob     98600\n",
       "1               pmndrs              pmndrs              pmndrs     25800\n",
       "2               libgdx              libgdx              libgdx     22600\n",
       "3            BabylonJS           BabylonJS           BabylonJS     22400\n",
       "4                ssloy               ssloy               ssloy     19300\n",
       "5              FreeCAD             FreeCAD             FreeCAD     17300\n",
       "6              lettier             lettier             lettier     17000\n",
       "7             aframevr            aframevr            aframevr     16100\n",
       "8             CesiumGS            CesiumGS            CesiumGS     11800\n",
       "9              blender             blender             blender     11300\n",
       "10            MonoGame            MonoGame            MonoGame     10700\n",
       "11             isl-org             isl-org             isl-org     10400\n",
       "12           metafizzy           metafizzy           metafizzy     10200\n",
       "13         timzhang642         timzhang642         timzhang642      9400\n",
       "14  nerfstudio-project  nerfstudio-project  nerfstudio-project      8400\n",
       "15        a1studmuffin        a1studmuffin        a1studmuffin      7600\n",
       "16             domlysz             domlysz             domlysz      7200\n",
       "17         FyroxEngine         FyroxEngine         FyroxEngine      7100\n",
       "18              google              google              google      6500\n",
       "19            openscad            openscad            openscad      6400"
      ]
     },
     "execution_count": 65,
     "metadata": {},
     "output_type": "execute_result"
    }
   ],
   "source": [
    "topicDF\n",
    "#print the Dataframe \n"
   ]
  },
  {
   "cell_type": "code",
   "execution_count": 66,
   "id": "60df0711-c6f2-43bb-b9f4-f16f2ed0d96b",
   "metadata": {},
   "outputs": [],
   "source": [
    "topicDF.to_csv(\"updatedUser\") # a new csv will create  with user description "
   ]
  },
  {
   "cell_type": "code",
   "execution_count": 281,
   "id": "75799a9c-4d16-4125-a527-eaff38e4d645",
   "metadata": {},
   "outputs": [],
   "source": [
    "import os \n",
    "\n",
    "def get_topic_page(topic_url):\n",
    "    respone=requests.get(topic_url)\n",
    "    if response.status_code!=200:\n",
    "        raise Exception('Failed to load Page{}'.format(topic_url))\n",
    "    topic_doc=BeautifulSoup(response.text,'html.parser')\n",
    "    return topic_doc\n",
    "def get_repo_info(h3_tag,start_tag):\n",
    "    a_tags=h3_tag.find_all('a')\n",
    "    username=a_tags[0].text.strip()\n",
    "    repo_name=a_tags[1].text.strip()\n",
    "    repo_url=base_url+a_tags[1]['href']\n",
    "    stars=parse_star_count(start_tag.text.strip())\n",
    "    return username,repo_name,stars,repo_url\n",
    "def get_topic_repos(topic_doc):\n",
    "    h3_selectionclass='f3 color-fg-muted text-normal lh-condensed'\n",
    "    repo_tags=topic_doc.find_all('h3',{'class':h3_selectionclass})\n",
    "    start_tags=topic_doc.find_all('span',{'class':'Counter js-social-count'})\n",
    "    topic_repos_dict={\n",
    "    'username':[],\n",
    "    'repo_name':[],\n",
    "    'stars':[],\n",
    "    'repo_url':[]\n",
    "}\n",
    "    for i in range(len(repo_tags)):\n",
    "        repo_info=get_repo_info(repo_tags[i],start_tags[i])\n",
    "        topic_repos_dict['username'].append(repo_info[0])\n",
    "        topic_repos_dict['repo_name'].append(repo_info[1])\n",
    "        topic_repos_dict['stars'].append(repo_info[2])\n",
    "        topic_repos_dict['repo_url'].append(repo_info[3])\n",
    "    return pd.DataFrame(topic_repos_dict)\n",
    "def scrape_topic(topic_url,path):\n",
    "    \n",
    "    if os.path.exists(path):\n",
    "        print(\"the file {} already existed.Skip\".format(path))\n",
    "        return\n",
    "    topic_df =get_topic_repos(get_topic_page(topic_url))\n",
    "    topic_df.to_csv(path,index=\"None\")"
   ]
  },
  {
   "cell_type": "code",
   "execution_count": 227,
   "id": "c2f74552-726e-4f7e-bfa4-ac6151edd6e7",
   "metadata": {},
   "outputs": [],
   "source": [
    "\n",
    "url4= topic_url[4]"
   ]
  },
  {
   "cell_type": "code",
   "execution_count": 228,
   "id": "2ae2b6b0-d836-4ba4-8f39-f1d79ac92efb",
   "metadata": {},
   "outputs": [],
   "source": [
    "topic4_doc=get_topic_page(url4)"
   ]
  },
  {
   "cell_type": "code",
   "execution_count": 229,
   "id": "e08df5fb-850c-46f9-bb32-f6d506e840bc",
   "metadata": {},
   "outputs": [
    {
     "data": {
      "text/plain": [
       "'https://github.com/topics/android'"
      ]
     },
     "execution_count": 229,
     "metadata": {},
     "output_type": "execute_result"
    }
   ],
   "source": [
    "url4"
   ]
  },
  {
   "cell_type": "code",
   "execution_count": 230,
   "id": "cffca4cb-e665-494e-93f5-1fcc077685a6",
   "metadata": {},
   "outputs": [],
   "source": [
    "topic4_doc=get_topic_page(url4)"
   ]
  },
  {
   "cell_type": "code",
   "execution_count": 231,
   "id": "4def1557-557d-4ad4-9ddb-d808acd04dc5",
   "metadata": {},
   "outputs": [],
   "source": [
    "topic4_repos=get_topic_repos(topic4_doc)"
   ]
  },
  {
   "cell_type": "code",
   "execution_count": 232,
   "id": "f82797d1-df10-44e6-91e0-02eef048ba51",
   "metadata": {},
   "outputs": [
    {
     "data": {
      "text/html": [
       "<div>\n",
       "<style scoped>\n",
       "    .dataframe tbody tr th:only-of-type {\n",
       "        vertical-align: middle;\n",
       "    }\n",
       "\n",
       "    .dataframe tbody tr th {\n",
       "        vertical-align: top;\n",
       "    }\n",
       "\n",
       "    .dataframe thead th {\n",
       "        text-align: right;\n",
       "    }\n",
       "</style>\n",
       "<table border=\"1\" class=\"dataframe\">\n",
       "  <thead>\n",
       "    <tr style=\"text-align: right;\">\n",
       "      <th></th>\n",
       "      <th>username</th>\n",
       "      <th>repo_name</th>\n",
       "      <th>stars</th>\n",
       "      <th>repo_url</th>\n",
       "    </tr>\n",
       "  </thead>\n",
       "  <tbody>\n",
       "    <tr>\n",
       "      <th>0</th>\n",
       "      <td>mrdoob</td>\n",
       "      <td>three.js</td>\n",
       "      <td>98600</td>\n",
       "      <td>https://github.com/mrdoob/three.js</td>\n",
       "    </tr>\n",
       "    <tr>\n",
       "      <th>1</th>\n",
       "      <td>pmndrs</td>\n",
       "      <td>react-three-fiber</td>\n",
       "      <td>25800</td>\n",
       "      <td>https://github.com/pmndrs/react-three-fiber</td>\n",
       "    </tr>\n",
       "    <tr>\n",
       "      <th>2</th>\n",
       "      <td>libgdx</td>\n",
       "      <td>libgdx</td>\n",
       "      <td>22600</td>\n",
       "      <td>https://github.com/libgdx/libgdx</td>\n",
       "    </tr>\n",
       "    <tr>\n",
       "      <th>3</th>\n",
       "      <td>BabylonJS</td>\n",
       "      <td>Babylon.js</td>\n",
       "      <td>22400</td>\n",
       "      <td>https://github.com/BabylonJS/Babylon.js</td>\n",
       "    </tr>\n",
       "    <tr>\n",
       "      <th>4</th>\n",
       "      <td>ssloy</td>\n",
       "      <td>tinyrenderer</td>\n",
       "      <td>19300</td>\n",
       "      <td>https://github.com/ssloy/tinyrenderer</td>\n",
       "    </tr>\n",
       "    <tr>\n",
       "      <th>5</th>\n",
       "      <td>FreeCAD</td>\n",
       "      <td>FreeCAD</td>\n",
       "      <td>17300</td>\n",
       "      <td>https://github.com/FreeCAD/FreeCAD</td>\n",
       "    </tr>\n",
       "    <tr>\n",
       "      <th>6</th>\n",
       "      <td>lettier</td>\n",
       "      <td>3d-game-shaders-for-beginners</td>\n",
       "      <td>17000</td>\n",
       "      <td>https://github.com/lettier/3d-game-shaders-for...</td>\n",
       "    </tr>\n",
       "    <tr>\n",
       "      <th>7</th>\n",
       "      <td>aframevr</td>\n",
       "      <td>aframe</td>\n",
       "      <td>16100</td>\n",
       "      <td>https://github.com/aframevr/aframe</td>\n",
       "    </tr>\n",
       "    <tr>\n",
       "      <th>8</th>\n",
       "      <td>CesiumGS</td>\n",
       "      <td>cesium</td>\n",
       "      <td>11800</td>\n",
       "      <td>https://github.com/CesiumGS/cesium</td>\n",
       "    </tr>\n",
       "    <tr>\n",
       "      <th>9</th>\n",
       "      <td>blender</td>\n",
       "      <td>blender</td>\n",
       "      <td>11300</td>\n",
       "      <td>https://github.com/blender/blender</td>\n",
       "    </tr>\n",
       "    <tr>\n",
       "      <th>10</th>\n",
       "      <td>MonoGame</td>\n",
       "      <td>MonoGame</td>\n",
       "      <td>10700</td>\n",
       "      <td>https://github.com/MonoGame/MonoGame</td>\n",
       "    </tr>\n",
       "    <tr>\n",
       "      <th>11</th>\n",
       "      <td>isl-org</td>\n",
       "      <td>Open3D</td>\n",
       "      <td>10400</td>\n",
       "      <td>https://github.com/isl-org/Open3D</td>\n",
       "    </tr>\n",
       "    <tr>\n",
       "      <th>12</th>\n",
       "      <td>metafizzy</td>\n",
       "      <td>zdog</td>\n",
       "      <td>10200</td>\n",
       "      <td>https://github.com/metafizzy/zdog</td>\n",
       "    </tr>\n",
       "    <tr>\n",
       "      <th>13</th>\n",
       "      <td>timzhang642</td>\n",
       "      <td>3D-Machine-Learning</td>\n",
       "      <td>9400</td>\n",
       "      <td>https://github.com/timzhang642/3D-Machine-Lear...</td>\n",
       "    </tr>\n",
       "    <tr>\n",
       "      <th>14</th>\n",
       "      <td>nerfstudio-project</td>\n",
       "      <td>nerfstudio</td>\n",
       "      <td>8400</td>\n",
       "      <td>https://github.com/nerfstudio-project/nerfstudio</td>\n",
       "    </tr>\n",
       "    <tr>\n",
       "      <th>15</th>\n",
       "      <td>a1studmuffin</td>\n",
       "      <td>SpaceshipGenerator</td>\n",
       "      <td>7600</td>\n",
       "      <td>https://github.com/a1studmuffin/SpaceshipGener...</td>\n",
       "    </tr>\n",
       "    <tr>\n",
       "      <th>16</th>\n",
       "      <td>domlysz</td>\n",
       "      <td>BlenderGIS</td>\n",
       "      <td>7200</td>\n",
       "      <td>https://github.com/domlysz/BlenderGIS</td>\n",
       "    </tr>\n",
       "    <tr>\n",
       "      <th>17</th>\n",
       "      <td>FyroxEngine</td>\n",
       "      <td>Fyrox</td>\n",
       "      <td>7100</td>\n",
       "      <td>https://github.com/FyroxEngine/Fyrox</td>\n",
       "    </tr>\n",
       "    <tr>\n",
       "      <th>18</th>\n",
       "      <td>google</td>\n",
       "      <td>model-viewer</td>\n",
       "      <td>6500</td>\n",
       "      <td>https://github.com/google/model-viewer</td>\n",
       "    </tr>\n",
       "    <tr>\n",
       "      <th>19</th>\n",
       "      <td>openscad</td>\n",
       "      <td>openscad</td>\n",
       "      <td>6400</td>\n",
       "      <td>https://github.com/openscad/openscad</td>\n",
       "    </tr>\n",
       "  </tbody>\n",
       "</table>\n",
       "</div>"
      ],
      "text/plain": [
       "              username                      repo_name  stars  \\\n",
       "0               mrdoob                       three.js  98600   \n",
       "1               pmndrs              react-three-fiber  25800   \n",
       "2               libgdx                         libgdx  22600   \n",
       "3            BabylonJS                     Babylon.js  22400   \n",
       "4                ssloy                   tinyrenderer  19300   \n",
       "5              FreeCAD                        FreeCAD  17300   \n",
       "6              lettier  3d-game-shaders-for-beginners  17000   \n",
       "7             aframevr                         aframe  16100   \n",
       "8             CesiumGS                         cesium  11800   \n",
       "9              blender                        blender  11300   \n",
       "10            MonoGame                       MonoGame  10700   \n",
       "11             isl-org                         Open3D  10400   \n",
       "12           metafizzy                           zdog  10200   \n",
       "13         timzhang642            3D-Machine-Learning   9400   \n",
       "14  nerfstudio-project                     nerfstudio   8400   \n",
       "15        a1studmuffin             SpaceshipGenerator   7600   \n",
       "16             domlysz                     BlenderGIS   7200   \n",
       "17         FyroxEngine                          Fyrox   7100   \n",
       "18              google                   model-viewer   6500   \n",
       "19            openscad                       openscad   6400   \n",
       "\n",
       "                                             repo_url  \n",
       "0                  https://github.com/mrdoob/three.js  \n",
       "1         https://github.com/pmndrs/react-three-fiber  \n",
       "2                    https://github.com/libgdx/libgdx  \n",
       "3             https://github.com/BabylonJS/Babylon.js  \n",
       "4               https://github.com/ssloy/tinyrenderer  \n",
       "5                  https://github.com/FreeCAD/FreeCAD  \n",
       "6   https://github.com/lettier/3d-game-shaders-for...  \n",
       "7                  https://github.com/aframevr/aframe  \n",
       "8                  https://github.com/CesiumGS/cesium  \n",
       "9                  https://github.com/blender/blender  \n",
       "10               https://github.com/MonoGame/MonoGame  \n",
       "11                  https://github.com/isl-org/Open3D  \n",
       "12                  https://github.com/metafizzy/zdog  \n",
       "13  https://github.com/timzhang642/3D-Machine-Lear...  \n",
       "14   https://github.com/nerfstudio-project/nerfstudio  \n",
       "15  https://github.com/a1studmuffin/SpaceshipGener...  \n",
       "16              https://github.com/domlysz/BlenderGIS  \n",
       "17               https://github.com/FyroxEngine/Fyrox  \n",
       "18             https://github.com/google/model-viewer  \n",
       "19               https://github.com/openscad/openscad  "
      ]
     },
     "execution_count": 232,
     "metadata": {},
     "output_type": "execute_result"
    }
   ],
   "source": [
    "topic4_repos\n"
   ]
  },
  {
   "cell_type": "code",
   "execution_count": 233,
   "id": "f8a6d887-1fb7-4b50-98e1-946f3e1b622a",
   "metadata": {},
   "outputs": [
    {
     "data": {
      "text/plain": [
       "'https://github.com/topics/ansible'"
      ]
     },
     "execution_count": 233,
     "metadata": {},
     "output_type": "execute_result"
    }
   ],
   "source": [
    "topic_url[6]\n"
   ]
  },
  {
   "cell_type": "code",
   "execution_count": 234,
   "id": "5897181f-f646-427a-addf-543b622736db",
   "metadata": {},
   "outputs": [],
   "source": [
    "get_topic_repos(get_topic_page(topic_url[6])).to_csv('ansible.csv',index=None)"
   ]
  },
  {
   "cell_type": "code",
   "execution_count": 235,
   "id": "c55f30e7-2905-4f38-8708-5603410b82bd",
   "metadata": {},
   "outputs": [
    {
     "data": {
      "text/plain": [
       "'https://github.com/topics/atom'"
      ]
     },
     "execution_count": 235,
     "metadata": {},
     "output_type": "execute_result"
    }
   ],
   "source": [
    "topic_url[10]\n"
   ]
  },
  {
   "cell_type": "code",
   "execution_count": 275,
   "id": "534e47dd-1bc8-491a-9eca-66ee4c881e3d",
   "metadata": {},
   "outputs": [],
   "source": [
    "import pandas as pd \n",
    "\n",
    "def get_topic_titles(doc):\n",
    "    selection_class ='f3 lh-condensed mb-0 mt-1 Link--primary'\n",
    "    topic_title_tags=doc.find_all('p',{'class':selection_class})\n",
    "    topic_titles=[]\n",
    "    for tag in topic_title_tags:\n",
    "        topic_titles.append(tag.text)\n",
    "    return topic_titles\n",
    "\n",
    "def get_topic_descs(doc):\n",
    "    desc_selector='f5 color-fg-muted mb-0 mt-1'\n",
    "    topic_desc_tags =doc.find_all('p', {'class':desc_selector})\n",
    "    topic_descs=[]\n",
    "    for tag in topic_desc_tags:\n",
    "        topic_descs.append(tag.text.strip())\n",
    "    return topic_descs\n",
    "\n",
    "def get_topic_url(doc):\n",
    "    topic_link_tags=doc.find_all('a',{'class':'no-underline flex-1 d-flex flex-column'})\n",
    "    len(topic_link_tags)\n",
    "    topic_url=[]\n",
    "    base_url='https://github.com'\n",
    "    for tag in topic_link_tags:\n",
    "        topic_url.append(base_url+tag['href'])\n",
    "    return topic_url\n",
    "\n",
    "def scrape_topics():\n",
    "    topics_url = 'https://github.com/topics'\n",
    "    response = requests.get(topics_url)\n",
    "    if response.status_code != 200:\n",
    "        raise Exception('Failed to load page {}'.format(topics_url)) \n",
    "    doc = BeautifulSoup(response.text, 'html.parser') \n",
    "    \n",
    "    topics_dict = {\n",
    "        'title': get_topic_titles(doc),\n",
    "        'description': get_topic_descs(doc),\n",
    "        'url': get_topic_url(doc) \n",
    "    }\n",
    "    \n",
    "    return pd.DataFrame(topics_dict)\n",
    "\n",
    "    \n",
    "    \n"
   ]
  },
  {
   "cell_type": "code",
   "execution_count": 258,
   "id": "7cac5256-fb35-4fd3-9c16-b21b93cd7c1e",
   "metadata": {},
   "outputs": [
    {
     "data": {
      "text/plain": [
       "['3D',\n",
       " 'Ajax',\n",
       " 'Algorithm',\n",
       " 'Amp',\n",
       " 'Android',\n",
       " 'Angular',\n",
       " 'Ansible',\n",
       " 'API',\n",
       " 'Arduino',\n",
       " 'ASP.NET',\n",
       " 'Atom',\n",
       " 'Awesome Lists',\n",
       " 'Amazon Web Services',\n",
       " 'Azure',\n",
       " 'Babel',\n",
       " 'Bash',\n",
       " 'Bitcoin',\n",
       " 'Bootstrap',\n",
       " 'Bot',\n",
       " 'C',\n",
       " 'Chrome',\n",
       " 'Chrome extension',\n",
       " 'Command line interface',\n",
       " 'Clojure',\n",
       " 'Code quality',\n",
       " 'Code review',\n",
       " 'Compiler',\n",
       " 'Continuous integration',\n",
       " 'COVID-19',\n",
       " 'C++']"
      ]
     },
     "execution_count": 258,
     "metadata": {},
     "output_type": "execute_result"
    }
   ],
   "source": [
    "get_topic_titles(doc)"
   ]
  },
  {
   "cell_type": "code",
   "execution_count": 252,
   "id": "24415354-f8ca-4bb7-a25c-d6d0bb3a65d7",
   "metadata": {},
   "outputs": [
    {
     "data": {
      "text/plain": [
       "['3D refers to the use of three-dimensional graphics, modeling, and animation in various industries.',\n",
       " 'Ajax is a technique for creating interactive web applications.',\n",
       " 'Algorithms are self-contained sequences that carry out a variety of tasks.',\n",
       " 'Amp is a non-blocking concurrency library for PHP.',\n",
       " 'Android is an operating system built by Google designed for mobile devices.',\n",
       " 'Angular is an open source web application platform.',\n",
       " 'Ansible is a simple and powerful automation engine.',\n",
       " 'An API (Application Programming Interface) is a collection of protocols and subroutines for building software.',\n",
       " 'Arduino is an open source platform for building electronic devices.',\n",
       " 'ASP.NET is a web framework for building modern web apps and services.',\n",
       " 'Atom is a open source text editor built with web technologies.',\n",
       " 'An awesome list is a list of awesome things curated by the community.',\n",
       " 'Amazon Web Services provides on-demand cloud computing platforms on a subscription basis.',\n",
       " 'Azure is a cloud computing service created by Microsoft.',\n",
       " 'Babel is a compiler for writing next generation JavaScript, today.',\n",
       " 'Bash is a shell and command language interpreter for the GNU operating system.',\n",
       " 'Bitcoin is a cryptocurrency developed by Satoshi Nakamoto.',\n",
       " 'Bootstrap is an HTML, CSS, and JavaScript framework.',\n",
       " 'A bot is an application that runs automated tasks over the Internet.',\n",
       " 'C is a general purpose programming language that first appeared in 1972.',\n",
       " 'Chrome is a web browser from the tech company Google.',\n",
       " 'Chrome extensions enable users to customize the Chrome browsing experience.',\n",
       " 'A CLI, or command-line interface, is a console that helps users issue commands to a program.',\n",
       " 'Clojure is a dynamic, general-purpose programming language.',\n",
       " 'Automate your code review with style, quality, security, and test‑coverage checks when you need them.',\n",
       " 'Ensure your code meets quality standards and ship with confidence.',\n",
       " 'Compilers are software that translate higher-level programming languages to lower-level languages (e.g. machine code).',\n",
       " 'Automatically build and test your code as you push it upstream, preventing bugs from being deployed to production.',\n",
       " 'The coronavirus disease 2019 (COVID-19) is an infectious disease caused by SARS-CoV-2.',\n",
       " 'C++ is a general purpose and object-oriented programming language.']"
      ]
     },
     "execution_count": 252,
     "metadata": {},
     "output_type": "execute_result"
    }
   ],
   "source": [
    "get_topic_descs(doc)"
   ]
  },
  {
   "cell_type": "code",
   "execution_count": 259,
   "id": "7298537a-f3a4-4476-baa4-d29ade98da74",
   "metadata": {},
   "outputs": [
    {
     "data": {
      "text/plain": [
       "['https://github.com/topics/3d',\n",
       " 'https://github.com/topics/ajax',\n",
       " 'https://github.com/topics/algorithm',\n",
       " 'https://github.com/topics/amphp',\n",
       " 'https://github.com/topics/android',\n",
       " 'https://github.com/topics/angular',\n",
       " 'https://github.com/topics/ansible',\n",
       " 'https://github.com/topics/api',\n",
       " 'https://github.com/topics/arduino',\n",
       " 'https://github.com/topics/aspnet',\n",
       " 'https://github.com/topics/atom',\n",
       " 'https://github.com/topics/awesome',\n",
       " 'https://github.com/topics/aws',\n",
       " 'https://github.com/topics/azure',\n",
       " 'https://github.com/topics/babel',\n",
       " 'https://github.com/topics/bash',\n",
       " 'https://github.com/topics/bitcoin',\n",
       " 'https://github.com/topics/bootstrap',\n",
       " 'https://github.com/topics/bot',\n",
       " 'https://github.com/topics/c',\n",
       " 'https://github.com/topics/chrome',\n",
       " 'https://github.com/topics/chrome-extension',\n",
       " 'https://github.com/topics/cli',\n",
       " 'https://github.com/topics/clojure',\n",
       " 'https://github.com/topics/code-quality',\n",
       " 'https://github.com/topics/code-review',\n",
       " 'https://github.com/topics/compiler',\n",
       " 'https://github.com/topics/continuous-integration',\n",
       " 'https://github.com/topics/covid-19',\n",
       " 'https://github.com/topics/cpp']"
      ]
     },
     "execution_count": 259,
     "metadata": {},
     "output_type": "execute_result"
    }
   ],
   "source": [
    "get_topic_url(doc)"
   ]
  },
  {
   "cell_type": "code",
   "execution_count": 261,
   "id": "42b2f16a-ee2d-482d-bc70-161eb8ce9d4d",
   "metadata": {},
   "outputs": [
    {
     "data": {
      "text/html": [
       "<div>\n",
       "<style scoped>\n",
       "    .dataframe tbody tr th:only-of-type {\n",
       "        vertical-align: middle;\n",
       "    }\n",
       "\n",
       "    .dataframe tbody tr th {\n",
       "        vertical-align: top;\n",
       "    }\n",
       "\n",
       "    .dataframe thead th {\n",
       "        text-align: right;\n",
       "    }\n",
       "</style>\n",
       "<table border=\"1\" class=\"dataframe\">\n",
       "  <thead>\n",
       "    <tr style=\"text-align: right;\">\n",
       "      <th></th>\n",
       "      <th>title</th>\n",
       "      <th>description</th>\n",
       "      <th>url</th>\n",
       "    </tr>\n",
       "  </thead>\n",
       "  <tbody>\n",
       "    <tr>\n",
       "      <th>0</th>\n",
       "      <td>3D</td>\n",
       "      <td>3D refers to the use of three-dimensional grap...</td>\n",
       "      <td>https://github.com/topics/3d</td>\n",
       "    </tr>\n",
       "    <tr>\n",
       "      <th>1</th>\n",
       "      <td>Ajax</td>\n",
       "      <td>Ajax is a technique for creating interactive w...</td>\n",
       "      <td>https://github.com/topics/ajax</td>\n",
       "    </tr>\n",
       "    <tr>\n",
       "      <th>2</th>\n",
       "      <td>Algorithm</td>\n",
       "      <td>Algorithms are self-contained sequences that c...</td>\n",
       "      <td>https://github.com/topics/algorithm</td>\n",
       "    </tr>\n",
       "    <tr>\n",
       "      <th>3</th>\n",
       "      <td>Amp</td>\n",
       "      <td>Amp is a non-blocking concurrency library for ...</td>\n",
       "      <td>https://github.com/topics/amphp</td>\n",
       "    </tr>\n",
       "    <tr>\n",
       "      <th>4</th>\n",
       "      <td>Android</td>\n",
       "      <td>Android is an operating system built by Google...</td>\n",
       "      <td>https://github.com/topics/android</td>\n",
       "    </tr>\n",
       "    <tr>\n",
       "      <th>5</th>\n",
       "      <td>Angular</td>\n",
       "      <td>Angular is an open source web application plat...</td>\n",
       "      <td>https://github.com/topics/angular</td>\n",
       "    </tr>\n",
       "    <tr>\n",
       "      <th>6</th>\n",
       "      <td>Ansible</td>\n",
       "      <td>Ansible is a simple and powerful automation en...</td>\n",
       "      <td>https://github.com/topics/ansible</td>\n",
       "    </tr>\n",
       "    <tr>\n",
       "      <th>7</th>\n",
       "      <td>API</td>\n",
       "      <td>An API (Application Programming Interface) is ...</td>\n",
       "      <td>https://github.com/topics/api</td>\n",
       "    </tr>\n",
       "    <tr>\n",
       "      <th>8</th>\n",
       "      <td>Arduino</td>\n",
       "      <td>Arduino is an open source platform for buildin...</td>\n",
       "      <td>https://github.com/topics/arduino</td>\n",
       "    </tr>\n",
       "    <tr>\n",
       "      <th>9</th>\n",
       "      <td>ASP.NET</td>\n",
       "      <td>ASP.NET is a web framework for building modern...</td>\n",
       "      <td>https://github.com/topics/aspnet</td>\n",
       "    </tr>\n",
       "    <tr>\n",
       "      <th>10</th>\n",
       "      <td>Atom</td>\n",
       "      <td>Atom is a open source text editor built with w...</td>\n",
       "      <td>https://github.com/topics/atom</td>\n",
       "    </tr>\n",
       "    <tr>\n",
       "      <th>11</th>\n",
       "      <td>Awesome Lists</td>\n",
       "      <td>An awesome list is a list of awesome things cu...</td>\n",
       "      <td>https://github.com/topics/awesome</td>\n",
       "    </tr>\n",
       "    <tr>\n",
       "      <th>12</th>\n",
       "      <td>Amazon Web Services</td>\n",
       "      <td>Amazon Web Services provides on-demand cloud c...</td>\n",
       "      <td>https://github.com/topics/aws</td>\n",
       "    </tr>\n",
       "    <tr>\n",
       "      <th>13</th>\n",
       "      <td>Azure</td>\n",
       "      <td>Azure is a cloud computing service created by ...</td>\n",
       "      <td>https://github.com/topics/azure</td>\n",
       "    </tr>\n",
       "    <tr>\n",
       "      <th>14</th>\n",
       "      <td>Babel</td>\n",
       "      <td>Babel is a compiler for writing next generatio...</td>\n",
       "      <td>https://github.com/topics/babel</td>\n",
       "    </tr>\n",
       "    <tr>\n",
       "      <th>15</th>\n",
       "      <td>Bash</td>\n",
       "      <td>Bash is a shell and command language interpret...</td>\n",
       "      <td>https://github.com/topics/bash</td>\n",
       "    </tr>\n",
       "    <tr>\n",
       "      <th>16</th>\n",
       "      <td>Bitcoin</td>\n",
       "      <td>Bitcoin is a cryptocurrency developed by Satos...</td>\n",
       "      <td>https://github.com/topics/bitcoin</td>\n",
       "    </tr>\n",
       "    <tr>\n",
       "      <th>17</th>\n",
       "      <td>Bootstrap</td>\n",
       "      <td>Bootstrap is an HTML, CSS, and JavaScript fram...</td>\n",
       "      <td>https://github.com/topics/bootstrap</td>\n",
       "    </tr>\n",
       "    <tr>\n",
       "      <th>18</th>\n",
       "      <td>Bot</td>\n",
       "      <td>A bot is an application that runs automated ta...</td>\n",
       "      <td>https://github.com/topics/bot</td>\n",
       "    </tr>\n",
       "    <tr>\n",
       "      <th>19</th>\n",
       "      <td>C</td>\n",
       "      <td>C is a general purpose programming language th...</td>\n",
       "      <td>https://github.com/topics/c</td>\n",
       "    </tr>\n",
       "    <tr>\n",
       "      <th>20</th>\n",
       "      <td>Chrome</td>\n",
       "      <td>Chrome is a web browser from the tech company ...</td>\n",
       "      <td>https://github.com/topics/chrome</td>\n",
       "    </tr>\n",
       "    <tr>\n",
       "      <th>21</th>\n",
       "      <td>Chrome extension</td>\n",
       "      <td>Chrome extensions enable users to customize th...</td>\n",
       "      <td>https://github.com/topics/chrome-extension</td>\n",
       "    </tr>\n",
       "    <tr>\n",
       "      <th>22</th>\n",
       "      <td>Command line interface</td>\n",
       "      <td>A CLI, or command-line interface, is a console...</td>\n",
       "      <td>https://github.com/topics/cli</td>\n",
       "    </tr>\n",
       "    <tr>\n",
       "      <th>23</th>\n",
       "      <td>Clojure</td>\n",
       "      <td>Clojure is a dynamic, general-purpose programm...</td>\n",
       "      <td>https://github.com/topics/clojure</td>\n",
       "    </tr>\n",
       "    <tr>\n",
       "      <th>24</th>\n",
       "      <td>Code quality</td>\n",
       "      <td>Automate your code review with style, quality,...</td>\n",
       "      <td>https://github.com/topics/code-quality</td>\n",
       "    </tr>\n",
       "    <tr>\n",
       "      <th>25</th>\n",
       "      <td>Code review</td>\n",
       "      <td>Ensure your code meets quality standards and s...</td>\n",
       "      <td>https://github.com/topics/code-review</td>\n",
       "    </tr>\n",
       "    <tr>\n",
       "      <th>26</th>\n",
       "      <td>Compiler</td>\n",
       "      <td>Compilers are software that translate higher-l...</td>\n",
       "      <td>https://github.com/topics/compiler</td>\n",
       "    </tr>\n",
       "    <tr>\n",
       "      <th>27</th>\n",
       "      <td>Continuous integration</td>\n",
       "      <td>Automatically build and test your code as you ...</td>\n",
       "      <td>https://github.com/topics/continuous-integration</td>\n",
       "    </tr>\n",
       "    <tr>\n",
       "      <th>28</th>\n",
       "      <td>COVID-19</td>\n",
       "      <td>The coronavirus disease 2019 (COVID-19) is an ...</td>\n",
       "      <td>https://github.com/topics/covid-19</td>\n",
       "    </tr>\n",
       "    <tr>\n",
       "      <th>29</th>\n",
       "      <td>C++</td>\n",
       "      <td>C++ is a general purpose and object-oriented p...</td>\n",
       "      <td>https://github.com/topics/cpp</td>\n",
       "    </tr>\n",
       "  </tbody>\n",
       "</table>\n",
       "</div>"
      ],
      "text/plain": [
       "                     title                                        description  \\\n",
       "0                       3D  3D refers to the use of three-dimensional grap...   \n",
       "1                     Ajax  Ajax is a technique for creating interactive w...   \n",
       "2                Algorithm  Algorithms are self-contained sequences that c...   \n",
       "3                      Amp  Amp is a non-blocking concurrency library for ...   \n",
       "4                  Android  Android is an operating system built by Google...   \n",
       "5                  Angular  Angular is an open source web application plat...   \n",
       "6                  Ansible  Ansible is a simple and powerful automation en...   \n",
       "7                      API  An API (Application Programming Interface) is ...   \n",
       "8                  Arduino  Arduino is an open source platform for buildin...   \n",
       "9                  ASP.NET  ASP.NET is a web framework for building modern...   \n",
       "10                    Atom  Atom is a open source text editor built with w...   \n",
       "11           Awesome Lists  An awesome list is a list of awesome things cu...   \n",
       "12     Amazon Web Services  Amazon Web Services provides on-demand cloud c...   \n",
       "13                   Azure  Azure is a cloud computing service created by ...   \n",
       "14                   Babel  Babel is a compiler for writing next generatio...   \n",
       "15                    Bash  Bash is a shell and command language interpret...   \n",
       "16                 Bitcoin  Bitcoin is a cryptocurrency developed by Satos...   \n",
       "17               Bootstrap  Bootstrap is an HTML, CSS, and JavaScript fram...   \n",
       "18                     Bot  A bot is an application that runs automated ta...   \n",
       "19                       C  C is a general purpose programming language th...   \n",
       "20                  Chrome  Chrome is a web browser from the tech company ...   \n",
       "21        Chrome extension  Chrome extensions enable users to customize th...   \n",
       "22  Command line interface  A CLI, or command-line interface, is a console...   \n",
       "23                 Clojure  Clojure is a dynamic, general-purpose programm...   \n",
       "24            Code quality  Automate your code review with style, quality,...   \n",
       "25             Code review  Ensure your code meets quality standards and s...   \n",
       "26                Compiler  Compilers are software that translate higher-l...   \n",
       "27  Continuous integration  Automatically build and test your code as you ...   \n",
       "28                COVID-19  The coronavirus disease 2019 (COVID-19) is an ...   \n",
       "29                     C++  C++ is a general purpose and object-oriented p...   \n",
       "\n",
       "                                                 url  \n",
       "0                       https://github.com/topics/3d  \n",
       "1                     https://github.com/topics/ajax  \n",
       "2                https://github.com/topics/algorithm  \n",
       "3                    https://github.com/topics/amphp  \n",
       "4                  https://github.com/topics/android  \n",
       "5                  https://github.com/topics/angular  \n",
       "6                  https://github.com/topics/ansible  \n",
       "7                      https://github.com/topics/api  \n",
       "8                  https://github.com/topics/arduino  \n",
       "9                   https://github.com/topics/aspnet  \n",
       "10                    https://github.com/topics/atom  \n",
       "11                 https://github.com/topics/awesome  \n",
       "12                     https://github.com/topics/aws  \n",
       "13                   https://github.com/topics/azure  \n",
       "14                   https://github.com/topics/babel  \n",
       "15                    https://github.com/topics/bash  \n",
       "16                 https://github.com/topics/bitcoin  \n",
       "17               https://github.com/topics/bootstrap  \n",
       "18                     https://github.com/topics/bot  \n",
       "19                       https://github.com/topics/c  \n",
       "20                  https://github.com/topics/chrome  \n",
       "21        https://github.com/topics/chrome-extension  \n",
       "22                     https://github.com/topics/cli  \n",
       "23                 https://github.com/topics/clojure  \n",
       "24            https://github.com/topics/code-quality  \n",
       "25             https://github.com/topics/code-review  \n",
       "26                https://github.com/topics/compiler  \n",
       "27  https://github.com/topics/continuous-integration  \n",
       "28                https://github.com/topics/covid-19  \n",
       "29                     https://github.com/topics/cpp  "
      ]
     },
     "execution_count": 261,
     "metadata": {},
     "output_type": "execute_result"
    }
   ],
   "source": [
    "scrape_topics() # github scrap "
   ]
  },
  {
   "cell_type": "code",
   "execution_count": 278,
   "id": "7de884f7-e58f-4f4f-abc5-39c67b545b35",
   "metadata": {},
   "outputs": [],
   "source": [
    "import os \n",
    "\n",
    "def scrape_topics_repos():\n",
    "    print('scraping list of topics')\n",
    "    topics_df=scrape_topics()\n",
    "    os.makedirs('data',exist_ok=True)\n",
    "    for index,row in topics_df.iterrows():\n",
    "        print('scrapping Top repositories for \"{}\"'.format(row['title']))\n",
    "        scrape_topic(row['url'],'data/{}.csv'.format(row['title']+' '))"
   ]
  },
  {
   "cell_type": "code",
   "execution_count": 282,
   "id": "0d182679-8c40-493c-b628-c5db31a507fb",
   "metadata": {},
   "outputs": [
    {
     "name": "stdout",
     "output_type": "stream",
     "text": [
      "scraping list of topics\n",
      "scrapping Top repositories for \"3D\"\n",
      "scrapping Top repositories for \"Ajax\"\n",
      "scrapping Top repositories for \"Algorithm\"\n",
      "scrapping Top repositories for \"Amp\"\n",
      "scrapping Top repositories for \"Android\"\n",
      "scrapping Top repositories for \"Angular\"\n",
      "scrapping Top repositories for \"Ansible\"\n",
      "scrapping Top repositories for \"API\"\n",
      "scrapping Top repositories for \"Arduino\"\n",
      "scrapping Top repositories for \"ASP.NET\"\n",
      "scrapping Top repositories for \"Atom\"\n",
      "scrapping Top repositories for \"Awesome Lists\"\n",
      "scrapping Top repositories for \"Amazon Web Services\"\n",
      "scrapping Top repositories for \"Azure\"\n",
      "scrapping Top repositories for \"Babel\"\n",
      "scrapping Top repositories for \"Bash\"\n",
      "scrapping Top repositories for \"Bitcoin\"\n",
      "scrapping Top repositories for \"Bootstrap\"\n",
      "scrapping Top repositories for \"Bot\"\n",
      "scrapping Top repositories for \"C\"\n",
      "scrapping Top repositories for \"Chrome\"\n",
      "scrapping Top repositories for \"Chrome extension\"\n",
      "scrapping Top repositories for \"Command line interface\"\n",
      "scrapping Top repositories for \"Clojure\"\n",
      "scrapping Top repositories for \"Code quality\"\n",
      "scrapping Top repositories for \"Code review\"\n",
      "scrapping Top repositories for \"Compiler\"\n",
      "scrapping Top repositories for \"Continuous integration\"\n",
      "scrapping Top repositories for \"COVID-19\"\n",
      "scrapping Top repositories for \"C++\"\n"
     ]
    }
   ],
   "source": [
    "scrape_topics_repos();"
   ]
  },
  {
   "cell_type": "code",
   "execution_count": null,
   "id": "126980bb-2ff3-4c9e-9684-0b5f51fb483a",
   "metadata": {},
   "outputs": [],
   "source": []
  }
 ],
 "metadata": {
  "kernelspec": {
   "display_name": "Python 3 (ipykernel)",
   "language": "python",
   "name": "python3"
  },
  "language_info": {
   "codemirror_mode": {
    "name": "ipython",
    "version": 3
   },
   "file_extension": ".py",
   "mimetype": "text/x-python",
   "name": "python",
   "nbconvert_exporter": "python",
   "pygments_lexer": "ipython3",
   "version": "3.12.2"
  }
 },
 "nbformat": 4,
 "nbformat_minor": 5
}
